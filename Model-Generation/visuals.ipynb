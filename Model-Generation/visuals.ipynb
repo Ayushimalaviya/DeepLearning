{
  "cells": [
    {
      "attachments": {},
      "cell_type": "markdown",
      "metadata": {},
      "source": [
        "# CNN Model Generation using different Techniques"
      ]
    },
    {
      "attachments": {},
      "cell_type": "markdown",
      "metadata": {
        "id": "AB984zDC7Ze9"
      },
      "source": [
        "## Introduction:\n",
        "\n",
        "1. Build Convolutional Neural Network to classify CIFAR-10 Images."
      ]
    },
    {
      "attachments": {},
      "cell_type": "markdown",
      "metadata": {
        "id": "TkLRPBnK7Ze-"
      },
      "source": [
        "## Batch Normalization (BN)"
      ]
    },
    {
      "attachments": {},
      "cell_type": "markdown",
      "metadata": {
        "id": "XHMhq_C27Ze-"
      },
      "source": [
        "### Background:"
      ]
    },
    {
      "attachments": {},
      "cell_type": "markdown",
      "metadata": {
        "id": "BdwjtbFW7Ze-"
      },
      "source": [
        "- Batch Normalization is a technique to speed up training and help make the model more stable.\n",
        "- In simple words, batch normalization is just another network layer that gets inserted between a hidden layer and the next hidden layer. Its job is to take the outputs from the first hidden layer and normalize them before passing them on as the input of the next hidden layer.\n",
        "\n",
        "- For more detailed information, you may refer to the original paper: https://arxiv.org/pdf/1502.03167.pdf."
      ]
    },
    {
      "attachments": {},
      "cell_type": "markdown",
      "metadata": {
        "id": "p8BLLQTt7Ze-"
      },
      "source": [
        "### BN Algorithm:"
      ]
    },
    {
      "attachments": {},
      "cell_type": "markdown",
      "metadata": {
        "id": "8aR5m8VQ7Ze-"
      },
      "source": [
        "- Input: Values of $x$ over a mini-batch: $\\mathbf{B}$ = $\\{x_1,..., x_m\\};$\n",
        "- Output: $\\{y_i = BN_{\\gamma,\\beta}(x_i)\\}$, $\\gamma, \\beta$ are learnable parameters\n",
        "\n",
        "Normalization of the Input:\n",
        "$$\\mu_{\\mathbf{B}} = \\frac{1}{m}\\sum_{i=1}^m x_i$$\n",
        "$$\\sigma_{\\mathbf{B}}^2 = \\frac{1}{m}\\sum_{i=1}^m (x_i - \\mu_{\\mathbf{B}})^2$$\n",
        "$$\\hat{x_i} = \\frac{x_i - \\mu_{\\mathbf{B}}}{\\sqrt{\\sigma_{\\mathbf{B}}}^2 + \\epsilon}$$\n",
        "Re-scaling and Offsetting:\n",
        "$$y_i = \\gamma \\hat{x_i} + \\beta = BN_{\\gamma,\\beta}(x_i)$$\n"
      ]
    },
    {
      "attachments": {},
      "cell_type": "markdown",
      "metadata": {
        "id": "PVo70Zw17Ze_"
      },
      "source": [
        "### Advantages of BN:\n",
        "1. Improves gradient flow through the network.\n",
        "2. Allows use of saturating nonlinearities and higher learning rates.\n",
        "3. Makes weights easier to initialize.\n",
        "4. Act as a form of regularization and may reduce the need for dropout."
      ]
    },
    {
      "attachments": {},
      "cell_type": "markdown",
      "metadata": {
        "id": "UsbTABt-7Ze_"
      },
      "source": [
        "### Implementation:"
      ]
    },
    {
      "attachments": {},
      "cell_type": "markdown",
      "metadata": {
        "id": "46Dw6nGu7Ze_"
      },
      "source": [
        "- The batch normalization layer has already been implemented in many packages. You may simply call the function to build the layer. For example: torch.nn.BatchNorm2d() using pytroch package, keras.layers.BatchNormalization() using keras package.\n",
        "- The location of BN layer: Please make sure ```BatchNormalization``` is between a ```Conv```/```Dense``` layer and an ```activation``` layer."
      ]
    },
    {
      "attachments": {},
      "cell_type": "markdown",
      "metadata": {
        "id": "-94cg8Ff7Ze_"
      },
      "source": [
        "## 1. Data preparation"
      ]
    },
    {
      "attachments": {},
      "cell_type": "markdown",
      "metadata": {
        "id": "v-UJeRC77Ze_"
      },
      "source": [
        "### 1.1. Load data\n"
      ]
    },
    {
      "cell_type": "code",
      "execution_count": 1,
      "metadata": {
        "colab": {
          "base_uri": "https://localhost:8080/"
        },
        "id": "-bZXxxHV7Ze_",
        "outputId": "1bc66232-6ecf-4aa9-af44-3e6a089e1848"
      },
      "outputs": [
        {
          "name": "stdout",
          "output_type": "stream",
          "text": [
            "shape of x_train: (50000, 32, 32, 3)\n",
            "shape of y_train: (50000, 1)\n",
            "shape of x_test: (10000, 32, 32, 3)\n",
            "shape of y_test: (10000, 1)\n",
            "number of classes: 10\n"
          ]
        }
      ],
      "source": [
        "# Load Cifar-10 Data\n",
        "# This is just an example.\n",
        "import keras\n",
        "import numpy as np\n",
        "from keras.datasets import cifar10\n",
        "\n",
        "\n",
        "(x_train, y_train), (x_test, y_test) = cifar10.load_data()\n",
        "\n",
        "print('shape of x_train: ' + str(x_train.shape))\n",
        "print('shape of y_train: ' + str(y_train.shape))\n",
        "print('shape of x_test: ' + str(x_test.shape))\n",
        "print('shape of y_test: ' + str(y_test.shape))\n",
        "print('number of classes: ' + str(np.max(y_train) - np.min(y_train) + 1))"
      ]
    },
    {
      "attachments": {},
      "cell_type": "markdown",
      "metadata": {
        "id": "o54LOvMk7ZfA"
      },
      "source": [
        "### 1.2. One-hot encode the labels \n",
        "\n",
        "In the input, a label is a scalar in $\\{0, 1, \\cdots , 9\\}$. One-hot encode transform such a scalar to a $10$-dim vector. E.g., a scalar ```y_train[j]=3``` is transformed to the vector ```y_train_vec[j]=[0, 0, 0, 1, 0, 0, 0, 0, 0, 0]```.\n",
        "\n",
        "1. Implemented a function ```to_one_hot``` that transforms an $n\\times 1$ array to a $n\\times 10$ matrix.\n",
        "\n",
        "2. Applied the function to ```y_train``` and ```y_test```."
      ]
    },
    {
      "cell_type": "code",
      "execution_count": 2,
      "metadata": {
        "colab": {
          "base_uri": "https://localhost:8080/"
        },
        "id": "2wCEMTgU7ZfA",
        "outputId": "cd0d936f-22ba-43e9-f60e-65fcccbef59b"
      },
      "outputs": [
        {
          "name": "stdout",
          "output_type": "stream",
          "text": [
            "Shape of y_train_vec: (50000, 10)\n",
            "Shape of y_test_vec: (10000, 10)\n"
          ]
        }
      ],
      "source": [
        "def to_one_hot(y, num_class=10):\n",
        "  labels_list = list(y)\n",
        "  #array = np.zeros((len(y), dimensions))\n",
        "  results_list = list(map(lambda y: [1 if i == y else 0 for i in range(10)], labels_list))\n",
        "  results = np.array(results_list)\n",
        "  return results\n",
        "\n",
        "y_train_vec = to_one_hot(y_train)\n",
        "y_test_vec = to_one_hot(y_test)\n",
        "\n",
        "print('Shape of y_train_vec: ' + str(y_train_vec.shape))\n",
        "print('Shape of y_test_vec: ' + str(y_test_vec.shape))"
      ]
    },
    {
      "attachments": {},
      "cell_type": "markdown",
      "metadata": {
        "id": "GB5MRU927ZfB"
      },
      "source": [
        "#### Remark: the outputs is \n",
        "* Shape of y_train_vec: (50000, 10)\n",
        "* Shape of y_test_vec: (10000, 10)\n",
        "* [6]\n",
        "* [0. 0. 0. 0. 0. 0. 1. 0. 0. 0.]"
      ]
    },
    {
      "attachments": {},
      "cell_type": "markdown",
      "metadata": {
        "id": "iWEo4V9F7ZfB"
      },
      "source": [
        "### 1.3. Randomly partition the training set to training and validation sets \n",
        "\n",
        "Randomly partitioned the 50K training samples to 2 sets: \n",
        "* a training set containing 40K samples: x_tr, y_tr\n",
        "* a validation set containing 10K samples: x_val, y_val\n"
      ]
    },
    {
      "cell_type": "code",
      "execution_count": 3,
      "metadata": {
        "colab": {
          "base_uri": "https://localhost:8080/"
        },
        "id": "vlZ_g8vn7ZfB",
        "outputId": "9402c8fa-554d-434f-c5d7-5ff76b535eb7"
      },
      "outputs": [
        {
          "name": "stdout",
          "output_type": "stream",
          "text": [
            "Shape of x_tr: (40000, 32, 32, 3)\n",
            "Shape of y_tr: (40000, 10)\n",
            "Shape of x_val: (10000, 32, 32, 3)\n",
            "Shape of y_val: (10000, 10)\n"
          ]
        }
      ],
      "source": [
        "rand_indices = np.random.permutation(50000)\n",
        "train_indices = rand_indices[0:40000]\n",
        "valid_indices = rand_indices[40000:50000]\n",
        "\n",
        "x_tr = x_train[train_indices, :]\n",
        "y_tr = y_train_vec[train_indices, :]\n",
        "\n",
        "x_val = x_train[valid_indices, :]\n",
        "y_val = y_train_vec[valid_indices, :] \n",
        "\n",
        "print('Shape of x_tr: ' + str(x_tr.shape))\n",
        "print('Shape of y_tr: ' + str(y_tr.shape))\n",
        "print('Shape of x_val: ' + str(x_val.shape))\n",
        "print('Shape of y_val: ' + str(y_val.shape))"
      ]
    },
    {
      "attachments": {},
      "cell_type": "markdown",
      "metadata": {
        "id": "n6pvmgn47ZfB"
      },
      "source": [
        "## 2. Built a CNN and tune its hyper-parameters \n",
        "\n",
        "- Built a convolutional neural network model using the below structure:\n",
        "\n",
        "- It has a structure of: Conv - ReLU - Max Pool - ConV - ReLU - Max Pool - Dense - ReLU - Dense - Softmax\n",
        "\n",
        "- In the graph 3@32x32 means the dimension of input image, 32@30x30 means it has 32 filters and the dimension now becomes 30x30 after the convolution.\n",
        "- All convolutional layers (Conv) should have stride = 1 and no padding.\n",
        "- Max Pooling has a pool size of 2 by 2.\n",
        "\n",
        "\n"
      ]
    },
    {
      "attachments": {},
      "cell_type": "markdown",
      "metadata": {
        "id": "nQZfl-Ia7ZfB"
      },
      "source": [
        "<img src=\"network.PNG\"/>"
      ]
    },
    {
      "attachments": {},
      "cell_type": "markdown",
      "metadata": {
        "id": "qAiy7wOU7ZfB"
      },
      "source": [
        "- I have used the validation data to tune the hyper-parameters (e.g., learning rate, and optimization algorithm)\n",
        "- Tried to achieve a validation accuracy as high as possible."
      ]
    },
    {
      "cell_type": "code",
      "execution_count": 4,
      "metadata": {
        "colab": {
          "base_uri": "https://localhost:8080/"
        },
        "id": "PtkcIMrs7ZfB",
        "outputId": "b8699bc4-53e7-4891-d1aa-f2c2f397f231"
      },
      "outputs": [
        {
          "name": "stdout",
          "output_type": "stream",
          "text": [
            "Model: \"sequential\"\n",
            "_________________________________________________________________\n",
            " Layer (type)                Output Shape              Param #   \n",
            "=================================================================\n",
            " conv2d (Conv2D)             (None, 30, 30, 32)        896       \n",
            "                                                                 \n",
            " max_pooling2d (MaxPooling2D  (None, 15, 15, 32)       0         \n",
            " )                                                               \n",
            "                                                                 \n",
            " conv2d_1 (Conv2D)           (None, 12, 12, 64)        32832     \n",
            "                                                                 \n",
            " max_pooling2d_1 (MaxPooling  (None, 6, 6, 64)         0         \n",
            " 2D)                                                             \n",
            "                                                                 \n",
            " flatten (Flatten)           (None, 2304)              0         \n",
            "                                                                 \n",
            " dense (Dense)               (None, 256)               590080    \n",
            "                                                                 \n",
            " dense_1 (Dense)             (None, 10)                2570      \n",
            "                                                                 \n",
            "=================================================================\n",
            "Total params: 626,378\n",
            "Trainable params: 626,378\n",
            "Non-trainable params: 0\n",
            "_________________________________________________________________\n"
          ]
        }
      ],
      "source": [
        "# Build the model\n",
        "from keras import layers, models, optimizers\n",
        "model = models.Sequential()\n",
        "model.add(layers.Conv2D(32,(3,3), activation='relu', input_shape=(32,32,3)))\n",
        "model.add(layers.MaxPooling2D((2,2)))\n",
        "model.add(layers.Conv2D(64,(4,4), activation='relu'))\n",
        "model.add(layers.MaxPooling2D((2,2)))\n",
        "model.add(layers.Flatten())\n",
        "model.add(layers.Dense(256, activation='relu'))\n",
        "model.add(layers.Dense(10, activation='softmax'))\n",
        "model.summary()"
      ]
    },
    {
      "cell_type": "code",
      "execution_count": 5,
      "metadata": {
        "id": "jDQvitqi7ZfB"
      },
      "outputs": [],
      "source": [
        "# Define model optimizer and loss function\n",
        "#RMSprop with 1e-4, 0.001, 0.01\n",
        "#Adadelta with 0.0001 , 0.001 , 0.01\n",
        "\n",
        "model.compile( optimizer = optimizers.Adam(learning_rate=0.0001), loss ='categorical_crossentropy', metrics=['accuracy'] )"
      ]
    },
    {
      "cell_type": "code",
      "execution_count": 6,
      "metadata": {
        "colab": {
          "base_uri": "https://localhost:8080/"
        },
        "id": "rJDuOhpT7ZfB",
        "outputId": "cc46433a-72b9-4a1b-ed2b-4b102775928b"
      },
      "outputs": [
        {
          "name": "stdout",
          "output_type": "stream",
          "text": [
            "Epoch 1/50\n",
            "400/400 [==============================] - 6s 8ms/step - loss: 5.2736 - accuracy: 0.2813 - val_loss: 2.7698 - val_accuracy: 0.3310\n",
            "Epoch 2/50\n",
            "400/400 [==============================] - 3s 8ms/step - loss: 2.2136 - accuracy: 0.3947 - val_loss: 2.0042 - val_accuracy: 0.3975\n",
            "Epoch 3/50\n",
            "400/400 [==============================] - 3s 7ms/step - loss: 1.7112 - accuracy: 0.4541 - val_loss: 1.6953 - val_accuracy: 0.4615\n",
            "Epoch 4/50\n",
            "400/400 [==============================] - 4s 10ms/step - loss: 1.4744 - accuracy: 0.5062 - val_loss: 1.5715 - val_accuracy: 0.4805\n",
            "Epoch 5/50\n",
            "400/400 [==============================] - 3s 7ms/step - loss: 1.3168 - accuracy: 0.5512 - val_loss: 1.4177 - val_accuracy: 0.5300\n",
            "Epoch 6/50\n",
            "400/400 [==============================] - 3s 7ms/step - loss: 1.1917 - accuracy: 0.5888 - val_loss: 1.4128 - val_accuracy: 0.5355\n",
            "Epoch 7/50\n",
            "400/400 [==============================] - 2s 4ms/step - loss: 1.0880 - accuracy: 0.6235 - val_loss: 1.3655 - val_accuracy: 0.5500\n",
            "Epoch 8/50\n",
            "400/400 [==============================] - 2s 5ms/step - loss: 0.9953 - accuracy: 0.6552 - val_loss: 1.3175 - val_accuracy: 0.5675\n",
            "Epoch 9/50\n",
            "400/400 [==============================] - 2s 5ms/step - loss: 0.9127 - accuracy: 0.6848 - val_loss: 1.2804 - val_accuracy: 0.5785\n",
            "Epoch 10/50\n",
            "400/400 [==============================] - 2s 4ms/step - loss: 0.8295 - accuracy: 0.7136 - val_loss: 1.2528 - val_accuracy: 0.5940\n",
            "Epoch 11/50\n",
            "400/400 [==============================] - 2s 4ms/step - loss: 0.7598 - accuracy: 0.7383 - val_loss: 1.2336 - val_accuracy: 0.6120\n",
            "Epoch 12/50\n",
            "400/400 [==============================] - 2s 4ms/step - loss: 0.6784 - accuracy: 0.7703 - val_loss: 1.2331 - val_accuracy: 0.6050\n",
            "Epoch 13/50\n",
            "400/400 [==============================] - 2s 4ms/step - loss: 0.6136 - accuracy: 0.7916 - val_loss: 1.2516 - val_accuracy: 0.6120\n",
            "Epoch 14/50\n",
            "400/400 [==============================] - 2s 4ms/step - loss: 0.5450 - accuracy: 0.8168 - val_loss: 1.2818 - val_accuracy: 0.6175\n",
            "Epoch 15/50\n",
            "400/400 [==============================] - 2s 4ms/step - loss: 0.4894 - accuracy: 0.8383 - val_loss: 1.2794 - val_accuracy: 0.6225\n",
            "Epoch 16/50\n",
            "400/400 [==============================] - 2s 5ms/step - loss: 0.4352 - accuracy: 0.8599 - val_loss: 1.3036 - val_accuracy: 0.6260\n",
            "Epoch 17/50\n",
            "400/400 [==============================] - 2s 4ms/step - loss: 0.3717 - accuracy: 0.8834 - val_loss: 1.3590 - val_accuracy: 0.6270\n",
            "Epoch 18/50\n",
            "400/400 [==============================] - 2s 4ms/step - loss: 0.3309 - accuracy: 0.8979 - val_loss: 1.3948 - val_accuracy: 0.6310\n",
            "Epoch 19/50\n",
            "400/400 [==============================] - 2s 4ms/step - loss: 0.2830 - accuracy: 0.9155 - val_loss: 1.4123 - val_accuracy: 0.6245\n",
            "Epoch 20/50\n",
            "400/400 [==============================] - 2s 4ms/step - loss: 0.2443 - accuracy: 0.9286 - val_loss: 1.4644 - val_accuracy: 0.6275\n",
            "Epoch 21/50\n",
            "400/400 [==============================] - 2s 4ms/step - loss: 0.2048 - accuracy: 0.9430 - val_loss: 1.5599 - val_accuracy: 0.6125\n",
            "Epoch 22/50\n",
            "400/400 [==============================] - 2s 5ms/step - loss: 0.1783 - accuracy: 0.9506 - val_loss: 1.5375 - val_accuracy: 0.6295\n",
            "Epoch 23/50\n",
            "400/400 [==============================] - 2s 5ms/step - loss: 0.1457 - accuracy: 0.9628 - val_loss: 1.6127 - val_accuracy: 0.6300\n",
            "Epoch 24/50\n",
            "400/400 [==============================] - 2s 4ms/step - loss: 0.1194 - accuracy: 0.9723 - val_loss: 1.7116 - val_accuracy: 0.6215\n",
            "Epoch 25/50\n",
            "400/400 [==============================] - 2s 4ms/step - loss: 0.1016 - accuracy: 0.9768 - val_loss: 1.7620 - val_accuracy: 0.6240\n",
            "Epoch 26/50\n",
            "400/400 [==============================] - 2s 4ms/step - loss: 0.0845 - accuracy: 0.9825 - val_loss: 1.7489 - val_accuracy: 0.6260\n",
            "Epoch 27/50\n",
            "400/400 [==============================] - 2s 4ms/step - loss: 0.0689 - accuracy: 0.9868 - val_loss: 1.8211 - val_accuracy: 0.6410\n",
            "Epoch 28/50\n",
            "400/400 [==============================] - 2s 4ms/step - loss: 0.0583 - accuracy: 0.9898 - val_loss: 1.9199 - val_accuracy: 0.6325\n",
            "Epoch 29/50\n",
            "400/400 [==============================] - 2s 5ms/step - loss: 0.0489 - accuracy: 0.9918 - val_loss: 1.9141 - val_accuracy: 0.6370\n",
            "Epoch 30/50\n",
            "400/400 [==============================] - 2s 5ms/step - loss: 0.0363 - accuracy: 0.9956 - val_loss: 2.0011 - val_accuracy: 0.6340\n",
            "Epoch 31/50\n",
            "400/400 [==============================] - 2s 5ms/step - loss: 0.0313 - accuracy: 0.9957 - val_loss: 2.0356 - val_accuracy: 0.6230\n",
            "Epoch 32/50\n",
            "400/400 [==============================] - 2s 5ms/step - loss: 0.0534 - accuracy: 0.9880 - val_loss: 2.1395 - val_accuracy: 0.6315\n",
            "Epoch 33/50\n",
            "400/400 [==============================] - 2s 4ms/step - loss: 0.0446 - accuracy: 0.9905 - val_loss: 2.1272 - val_accuracy: 0.6375\n",
            "Epoch 34/50\n",
            "400/400 [==============================] - 2s 4ms/step - loss: 0.0176 - accuracy: 0.9984 - val_loss: 2.1565 - val_accuracy: 0.6400\n",
            "Epoch 35/50\n",
            "400/400 [==============================] - 2s 4ms/step - loss: 0.0096 - accuracy: 0.9997 - val_loss: 2.2130 - val_accuracy: 0.6410\n",
            "Epoch 36/50\n",
            "400/400 [==============================] - 2s 5ms/step - loss: 0.0527 - accuracy: 0.9851 - val_loss: 2.3236 - val_accuracy: 0.6195\n",
            "Epoch 37/50\n",
            "400/400 [==============================] - 2s 4ms/step - loss: 0.0435 - accuracy: 0.9893 - val_loss: 2.2154 - val_accuracy: 0.6465\n",
            "Epoch 38/50\n",
            "400/400 [==============================] - 2s 4ms/step - loss: 0.0125 - accuracy: 0.9990 - val_loss: 2.2622 - val_accuracy: 0.6495\n",
            "Epoch 39/50\n",
            "400/400 [==============================] - 2s 4ms/step - loss: 0.0052 - accuracy: 1.0000 - val_loss: 2.3544 - val_accuracy: 0.6435\n",
            "Epoch 40/50\n",
            "400/400 [==============================] - 2s 4ms/step - loss: 0.0035 - accuracy: 1.0000 - val_loss: 2.4026 - val_accuracy: 0.6390\n",
            "Epoch 41/50\n",
            "400/400 [==============================] - 2s 4ms/step - loss: 0.0027 - accuracy: 1.0000 - val_loss: 2.4421 - val_accuracy: 0.6485\n",
            "Epoch 42/50\n",
            "400/400 [==============================] - 2s 4ms/step - loss: 0.0022 - accuracy: 1.0000 - val_loss: 2.4939 - val_accuracy: 0.6400\n",
            "Epoch 43/50\n",
            "400/400 [==============================] - 2s 6ms/step - loss: 0.0019 - accuracy: 1.0000 - val_loss: 2.5350 - val_accuracy: 0.6440\n",
            "Epoch 44/50\n",
            "400/400 [==============================] - 2s 4ms/step - loss: 0.0016 - accuracy: 1.0000 - val_loss: 2.5564 - val_accuracy: 0.6390\n",
            "Epoch 45/50\n",
            "400/400 [==============================] - 2s 4ms/step - loss: 0.0014 - accuracy: 1.0000 - val_loss: 2.6195 - val_accuracy: 0.6430\n",
            "Epoch 46/50\n",
            "400/400 [==============================] - 2s 4ms/step - loss: 0.0011 - accuracy: 1.0000 - val_loss: 2.6566 - val_accuracy: 0.6405\n",
            "Epoch 47/50\n",
            "400/400 [==============================] - 2s 5ms/step - loss: 9.2891e-04 - accuracy: 1.0000 - val_loss: 2.6703 - val_accuracy: 0.6455\n",
            "Epoch 48/50\n",
            "400/400 [==============================] - 2s 6ms/step - loss: 8.2915e-04 - accuracy: 1.0000 - val_loss: 2.7521 - val_accuracy: 0.6405\n",
            "Epoch 49/50\n",
            "400/400 [==============================] - 2s 5ms/step - loss: 6.8447e-04 - accuracy: 1.0000 - val_loss: 2.7811 - val_accuracy: 0.6420\n",
            "Epoch 50/50\n",
            "400/400 [==============================] - 2s 5ms/step - loss: 0.0761 - accuracy: 0.9804 - val_loss: 2.5531 - val_accuracy: 0.5745\n"
          ]
        }
      ],
      "source": [
        "# Train the model and store model parameters/loss values\n",
        "history = model.fit(x_tr, y_tr, batch_size=100, epochs=50, validation_data=(x_val, y_val), validation_steps = 20)"
      ]
    },
    {
      "attachments": {},
      "cell_type": "markdown",
      "metadata": {
        "id": "NLPjq52z7ZfB"
      },
      "source": [
        "## 3. Plot the training and validation loss curve versus epochs. (5 points)\n",
        "\n",
        "---\n",
        "\n"
      ]
    },
    {
      "cell_type": "code",
      "execution_count": 7,
      "metadata": {
        "colab": {
          "base_uri": "https://localhost:8080/",
          "height": 472
        },
        "id": "FQSr33Mm7ZfB",
        "outputId": "fd1adfba-bef5-4e33-906b-e1b0bafe71a7"
      },
      "outputs": [
        {
          "data": {
            "image/png": "[encoded data removed]",
            "text/plain": [
              "<Figure size 640x480 with 1 Axes>"
            ]
          },
          "metadata": {},
          "output_type": "display_data"
        }
      ],
      "source": [
        "# Plot the loss curve\n",
        "import matplotlib.pyplot as plt\n",
        "\n",
        "# Extract the training and validation loss values from the history object\n",
        "train_loss = history.history['loss']\n",
        "val_loss = history.history['val_loss']\n",
        "\n",
        "# Plot the training and validation loss curves\n",
        "epochs = range(1, len(train_loss) + 1)\n",
        "plt.plot(epochs, train_loss, 'bo', label='Training Loss')\n",
        "plt.plot(epochs, val_loss, 'b', label='Validation Loss')\n",
        "plt.title('Training and Validation Loss')\n",
        "plt.xlabel('Epochs')\n",
        "plt.ylabel('Loss')\n",
        "plt.legend()\n",
        "plt.show()\n"
      ]
    },
    {
      "attachments": {},
      "cell_type": "markdown",
      "metadata": {
        "id": "9w5CHC9O7ZfC"
      },
      "source": [
        "## 4. Train (again) and evaluate the model \n",
        "\n",
        "- To this end, I found the \"best\" hyper-parameters. \n",
        "- Now, fixed the hyper-parameters and train the network on the entire training set (all the 50K training samples)\n",
        "- Evaluated the model on the test set."
      ]
    },
    {
      "attachments": {},
      "cell_type": "markdown",
      "metadata": {
        "id": "wE6PetjL7ZfC"
      },
      "source": [
        "### Train the model on the entire training set"
      ]
    },
    {
      "cell_type": "code",
      "execution_count": 8,
      "metadata": {
        "id": "Pqzj7J6F7ZfC"
      },
      "outputs": [],
      "source": [
        "#<Compile the model again (using the same hyper-parameters you tuned above)>\n",
        "model.compile( optimizer = optimizers.Adam(learning_rate=0.0001), loss ='categorical_crossentropy', metrics=['accuracy'] )"
      ]
    },
    {
      "cell_type": "code",
      "execution_count": 9,
      "metadata": {
        "colab": {
          "base_uri": "https://localhost:8080/"
        },
        "id": "OfN3HYgQ7ZfC",
        "outputId": "592b87d4-caa0-4463-d68b-05b20ea714f6"
      },
      "outputs": [
        {
          "name": "stdout",
          "output_type": "stream",
          "text": [
            "Epoch 1/40\n",
            "500/500 [==============================] - 3s 5ms/step - loss: 0.5072 - accuracy: 0.8889\n",
            "Epoch 2/40\n",
            "500/500 [==============================] - 2s 4ms/step - loss: 0.2855 - accuracy: 0.9307\n",
            "Epoch 3/40\n",
            "500/500 [==============================] - 2s 4ms/step - loss: 0.1854 - accuracy: 0.9514\n",
            "Epoch 4/40\n",
            "500/500 [==============================] - 2s 4ms/step - loss: 0.1215 - accuracy: 0.9682\n",
            "Epoch 5/40\n",
            "500/500 [==============================] - 2s 4ms/step - loss: 0.0782 - accuracy: 0.9793\n",
            "Epoch 6/40\n",
            "500/500 [==============================] - 2s 4ms/step - loss: 0.0534 - accuracy: 0.9874\n",
            "Epoch 7/40\n",
            "500/500 [==============================] - 2s 5ms/step - loss: 0.0345 - accuracy: 0.9930\n",
            "Epoch 8/40\n",
            "500/500 [==============================] - 2s 4ms/step - loss: 0.0288 - accuracy: 0.9942\n",
            "Epoch 9/40\n",
            "500/500 [==============================] - 2s 4ms/step - loss: 0.0302 - accuracy: 0.9932\n",
            "Epoch 10/40\n",
            "500/500 [==============================] - 2s 4ms/step - loss: 0.0303 - accuracy: 0.9928\n",
            "Epoch 11/40\n",
            "500/500 [==============================] - 2s 4ms/step - loss: 0.0369 - accuracy: 0.9899\n",
            "Epoch 12/40\n",
            "500/500 [==============================] - 2s 4ms/step - loss: 0.0209 - accuracy: 0.9954\n",
            "Epoch 13/40\n",
            "500/500 [==============================] - 2s 5ms/step - loss: 0.0359 - accuracy: 0.9898\n",
            "Epoch 14/40\n",
            "500/500 [==============================] - 2s 4ms/step - loss: 0.0106 - accuracy: 0.9987\n",
            "Epoch 15/40\n",
            "500/500 [==============================] - 2s 4ms/step - loss: 0.0040 - accuracy: 0.9998\n",
            "Epoch 16/40\n",
            "500/500 [==============================] - 2s 4ms/step - loss: 0.0018 - accuracy: 1.0000\n",
            "Epoch 17/40\n",
            "500/500 [==============================] - 2s 4ms/step - loss: 0.0013 - accuracy: 1.0000\n",
            "Epoch 18/40\n",
            "500/500 [==============================] - 2s 4ms/step - loss: 0.0010 - accuracy: 1.0000\n",
            "Epoch 19/40\n",
            "500/500 [==============================] - 2s 5ms/step - loss: 8.3166e-04 - accuracy: 1.0000\n",
            "Epoch 20/40\n",
            "500/500 [==============================] - 2s 4ms/step - loss: 7.0634e-04 - accuracy: 1.0000\n",
            "Epoch 21/40\n",
            "500/500 [==============================] - 2s 4ms/step - loss: 5.6812e-04 - accuracy: 1.0000\n",
            "Epoch 22/40\n",
            "500/500 [==============================] - 2s 4ms/step - loss: 4.6598e-04 - accuracy: 1.0000\n",
            "Epoch 23/40\n",
            "500/500 [==============================] - 2s 4ms/step - loss: 3.8494e-04 - accuracy: 1.0000\n",
            "Epoch 24/40\n",
            "500/500 [==============================] - 2s 4ms/step - loss: 3.1071e-04 - accuracy: 1.0000\n",
            "Epoch 25/40\n",
            "500/500 [==============================] - 2s 4ms/step - loss: 2.7632e-04 - accuracy: 1.0000\n",
            "Epoch 26/40\n",
            "500/500 [==============================] - 2s 4ms/step - loss: 2.1727e-04 - accuracy: 1.0000\n",
            "Epoch 27/40\n",
            "500/500 [==============================] - 2s 4ms/step - loss: 0.0799 - accuracy: 0.9781\n",
            "Epoch 28/40\n",
            "500/500 [==============================] - 2s 4ms/step - loss: 0.0753 - accuracy: 0.9757\n",
            "Epoch 29/40\n",
            "500/500 [==============================] - 2s 4ms/step - loss: 0.0102 - accuracy: 0.9979\n",
            "Epoch 30/40\n",
            "500/500 [==============================] - 2s 4ms/step - loss: 0.0046 - accuracy: 0.9995\n",
            "Epoch 31/40\n",
            "500/500 [==============================] - 3s 5ms/step - loss: 0.0014 - accuracy: 1.0000\n",
            "Epoch 32/40\n",
            "500/500 [==============================] - 2s 4ms/step - loss: 6.2987e-04 - accuracy: 1.0000\n",
            "Epoch 33/40\n",
            "500/500 [==============================] - 2s 4ms/step - loss: 4.8692e-04 - accuracy: 1.0000\n",
            "Epoch 34/40\n",
            "500/500 [==============================] - 2s 4ms/step - loss: 4.0256e-04 - accuracy: 1.0000\n",
            "Epoch 35/40\n",
            "500/500 [==============================] - 2s 4ms/step - loss: 3.3803e-04 - accuracy: 1.0000\n",
            "Epoch 36/40\n",
            "500/500 [==============================] - 2s 4ms/step - loss: 2.8736e-04 - accuracy: 1.0000\n",
            "Epoch 37/40\n",
            "500/500 [==============================] - 2s 5ms/step - loss: 2.4617e-04 - accuracy: 1.0000\n",
            "Epoch 38/40\n",
            "500/500 [==============================] - 2s 4ms/step - loss: 2.0963e-04 - accuracy: 1.0000\n",
            "Epoch 39/40\n",
            "500/500 [==============================] - 2s 4ms/step - loss: 1.7792e-04 - accuracy: 1.0000\n",
            "Epoch 40/40\n",
            "500/500 [==============================] - 2s 4ms/step - loss: 1.5035e-04 - accuracy: 1.0000\n"
          ]
        }
      ],
      "source": [
        "#<Train the model on the entire training set (50K samples)>\n",
        "history_train = model.fit(x_train, y_train_vec, batch_size =100, epochs=40)"
      ]
    },
    {
      "attachments": {},
      "cell_type": "markdown",
      "metadata": {
        "id": "HyQnwHUq7ZfC"
      },
      "source": [
        "## 5. Evaluate the model on the test set (5 points)\n",
        "\n",
        "Do NOT use the test set until now. Make sure that your model parameters and hyper-parameters are independent of the test set."
      ]
    },
    {
      "cell_type": "code",
      "execution_count": 10,
      "metadata": {
        "colab": {
          "base_uri": "https://localhost:8080/"
        },
        "id": "eUzitjKs7ZfC",
        "outputId": "d6ede8d8-542d-4831-f7b7-75134488e27b"
      },
      "outputs": [
        {
          "name": "stdout",
          "output_type": "stream",
          "text": [
            "313/313 [==============================] - 1s 3ms/step - loss: 3.1217 - accuracy: 0.6582\n",
            "Loss =3.12\n",
            "Accuracy =0.66\n"
          ]
        }
      ],
      "source": [
        "# Evaluated your model performance (testing accuracy) on testing data.\n",
        "accuracy = model.evaluate(x_test, y_test_vec)\n",
        "print('Loss =' + str(round(accuracy[0],2)))\n",
        "print('Accuracy =' + str(round(accuracy[1],2)))"
      ]
    },
    {
      "attachments": {},
      "cell_type": "markdown",
      "metadata": {
        "id": "7Kt4E4aB7ZfC"
      },
      "source": [
        "## 6. Building model with new structure (25 points)\n",
        "- In this section, you can build your model with adding new layers (e.g, BN layer or dropout layer, ...).\n",
        "- If you want to regularize a ```Conv/Dense layer```, you should place a ```Dropout layer``` before the ```Conv/Dense layer```.\n",
        "- You can try to compare their loss curve and testing accuracy and analyze your findings.\n",
        "- You need to try at lease two different model structures."
      ]
    },
    {
      "attachments": {},
      "cell_type": "markdown",
      "metadata": {
        "id": "L4onlA3h_jU-"
      },
      "source": [
        "**Model** **1**"
      ]
    },
    {
      "cell_type": "code",
      "execution_count": 11,
      "metadata": {
        "colab": {
          "base_uri": "https://localhost:8080/"
        },
        "id": "qtLY-NID7ZfC",
        "outputId": "f45c7cd2-c9b7-472e-e0ec-c8433e0938ce"
      },
      "outputs": [
        {
          "name": "stdout",
          "output_type": "stream",
          "text": [
            "Model: \"sequential\"\n",
            "_________________________________________________________________\n",
            " Layer (type)                Output Shape              Param #   \n",
            "=================================================================\n",
            " conv2d (Conv2D)             (None, 30, 30, 32)        896       \n",
            "                                                                 \n",
            " max_pooling2d (MaxPooling2D  (None, 15, 15, 32)       0         \n",
            " )                                                               \n",
            "                                                                 \n",
            " conv2d_1 (Conv2D)           (None, 12, 12, 64)        32832     \n",
            "                                                                 \n",
            " max_pooling2d_1 (MaxPooling  (None, 6, 6, 64)         0         \n",
            " 2D)                                                             \n",
            "                                                                 \n",
            " flatten (Flatten)           (None, 2304)              0         \n",
            "                                                                 \n",
            " dense (Dense)               (None, 256)               590080    \n",
            "                                                                 \n",
            " dense_1 (Dense)             (None, 10)                2570      \n",
            "                                                                 \n",
            "=================================================================\n",
            "Total params: 626,378\n",
            "Trainable params: 626,378\n",
            "Non-trainable params: 0\n",
            "_________________________________________________________________\n"
          ]
        }
      ],
      "source": [
        "model1 = models.Sequential()\n",
        "model1.add(layers.Conv2D(32,(3,3), input_shape=(32,32,3)))\n",
        "model1.add(layers.BatchNormalization()) #batch normalization 1\n",
        "model1.add(layers.Activation('relu'))\n",
        "model1.add(layers.MaxPooling2D((2,2)))\n",
        "model1.add(layers.Conv2D(64,(4,4)))\n",
        "model1.add(layers.BatchNormalization()) #batch normalization 2\n",
        "model1.add(layers.Activation('relu'))\n",
        "model1.add(layers.MaxPooling2D((2,2)))\n",
        "model1.add(layers.Flatten())\n",
        "model1.add(layers.Dense(256))\n",
        "model1.add(layers.Dropout(0.5)) #dropout layer 1\n",
        "model1.add(layers.BatchNormalization()) #batch normalization 3\n",
        "model1.add(layers.Activation('relu'))\n",
        "model1.add(layers.Dropout(0.5)) #dropout layer 2\n",
        "model1.add(layers.BatchNormalization()) #batch normalization 4\n",
        "model1.add(layers.Dense(10, activation='softmax'))\n",
        "\n",
        "model.summary()"
      ]
    },
    {
      "cell_type": "code",
      "execution_count": 12,
      "metadata": {
        "id": "WOzI6supATT9"
      },
      "outputs": [],
      "source": [
        "model1.compile( optimizer = optimizers.Adam(learning_rate=0.0001), loss ='categorical_crossentropy', metrics=['accuracy'] )"
      ]
    },
    {
      "cell_type": "code",
      "execution_count": 13,
      "metadata": {
        "colab": {
          "base_uri": "https://localhost:8080/"
        },
        "id": "L6ZGSVXSAYii",
        "outputId": "0bf35eba-dc5d-4f4b-eea0-ab1e83d52d02"
      },
      "outputs": [
        {
          "name": "stdout",
          "output_type": "stream",
          "text": [
            "Epoch 1/40\n",
            "400/400 [==============================] - 4s 7ms/step - loss: 2.1683 - accuracy: 0.2894 - val_loss: 1.5288 - val_accuracy: 0.4490\n",
            "Epoch 2/40\n",
            "400/400 [==============================] - 2s 6ms/step - loss: 1.7375 - accuracy: 0.3987 - val_loss: 1.3907 - val_accuracy: 0.5135\n",
            "Epoch 3/40\n",
            "400/400 [==============================] - 2s 6ms/step - loss: 1.5599 - accuracy: 0.4523 - val_loss: 1.2993 - val_accuracy: 0.5345\n",
            "Epoch 4/40\n",
            "400/400 [==============================] - 2s 6ms/step - loss: 1.4319 - accuracy: 0.4969 - val_loss: 1.2261 - val_accuracy: 0.5610\n",
            "Epoch 5/40\n",
            "400/400 [==============================] - 2s 6ms/step - loss: 1.3495 - accuracy: 0.5248 - val_loss: 1.2028 - val_accuracy: 0.5770\n",
            "Epoch 6/40\n",
            "400/400 [==============================] - 3s 6ms/step - loss: 1.2774 - accuracy: 0.5487 - val_loss: 1.1317 - val_accuracy: 0.6205\n",
            "Epoch 7/40\n",
            "400/400 [==============================] - 2s 5ms/step - loss: 1.2165 - accuracy: 0.5748 - val_loss: 1.0848 - val_accuracy: 0.6280\n",
            "Epoch 8/40\n",
            "400/400 [==============================] - 2s 5ms/step - loss: 1.1747 - accuracy: 0.5887 - val_loss: 1.1152 - val_accuracy: 0.6060\n",
            "Epoch 9/40\n",
            "400/400 [==============================] - 2s 6ms/step - loss: 1.1365 - accuracy: 0.6029 - val_loss: 1.0674 - val_accuracy: 0.6255\n",
            "Epoch 10/40\n",
            "400/400 [==============================] - 2s 6ms/step - loss: 1.0992 - accuracy: 0.6150 - val_loss: 1.0440 - val_accuracy: 0.6415\n",
            "Epoch 11/40\n",
            "400/400 [==============================] - 3s 7ms/step - loss: 1.0653 - accuracy: 0.6280 - val_loss: 1.0140 - val_accuracy: 0.6345\n",
            "Epoch 12/40\n",
            "400/400 [==============================] - 2s 6ms/step - loss: 1.0407 - accuracy: 0.6356 - val_loss: 0.9734 - val_accuracy: 0.6655\n",
            "Epoch 13/40\n",
            "400/400 [==============================] - 2s 6ms/step - loss: 1.0194 - accuracy: 0.6449 - val_loss: 0.9536 - val_accuracy: 0.6735\n",
            "Epoch 14/40\n",
            "400/400 [==============================] - 2s 6ms/step - loss: 1.0003 - accuracy: 0.6516 - val_loss: 0.9783 - val_accuracy: 0.6655\n",
            "Epoch 15/40\n",
            "400/400 [==============================] - 2s 6ms/step - loss: 0.9731 - accuracy: 0.6624 - val_loss: 0.9301 - val_accuracy: 0.6790\n",
            "Epoch 16/40\n",
            "400/400 [==============================] - 3s 6ms/step - loss: 0.9573 - accuracy: 0.6681 - val_loss: 0.9291 - val_accuracy: 0.6730\n",
            "Epoch 17/40\n",
            "400/400 [==============================] - 2s 6ms/step - loss: 0.9392 - accuracy: 0.6721 - val_loss: 0.9143 - val_accuracy: 0.6820\n",
            "Epoch 18/40\n",
            "400/400 [==============================] - 2s 5ms/step - loss: 0.9243 - accuracy: 0.6798 - val_loss: 0.9081 - val_accuracy: 0.6845\n",
            "Epoch 19/40\n",
            "400/400 [==============================] - 2s 6ms/step - loss: 0.9083 - accuracy: 0.6838 - val_loss: 0.8989 - val_accuracy: 0.6895\n",
            "Epoch 20/40\n",
            "400/400 [==============================] - 2s 5ms/step - loss: 0.8866 - accuracy: 0.6926 - val_loss: 0.8993 - val_accuracy: 0.6890\n",
            "Epoch 21/40\n",
            "400/400 [==============================] - 2s 6ms/step - loss: 0.8726 - accuracy: 0.6970 - val_loss: 0.9542 - val_accuracy: 0.6645\n",
            "Epoch 22/40\n",
            "400/400 [==============================] - 3s 7ms/step - loss: 0.8556 - accuracy: 0.7032 - val_loss: 0.8651 - val_accuracy: 0.7010\n",
            "Epoch 23/40\n",
            "400/400 [==============================] - 2s 5ms/step - loss: 0.8493 - accuracy: 0.7056 - val_loss: 0.8397 - val_accuracy: 0.7095\n",
            "Epoch 24/40\n",
            "400/400 [==============================] - 2s 5ms/step - loss: 0.8304 - accuracy: 0.7125 - val_loss: 0.9660 - val_accuracy: 0.6590\n",
            "Epoch 25/40\n",
            "400/400 [==============================] - 2s 6ms/step - loss: 0.8225 - accuracy: 0.7133 - val_loss: 0.8637 - val_accuracy: 0.6995\n",
            "Epoch 26/40\n",
            "400/400 [==============================] - 2s 5ms/step - loss: 0.8045 - accuracy: 0.7217 - val_loss: 0.8263 - val_accuracy: 0.7135\n",
            "Epoch 27/40\n",
            "400/400 [==============================] - 3s 8ms/step - loss: 0.7954 - accuracy: 0.7239 - val_loss: 0.8448 - val_accuracy: 0.7115\n",
            "Epoch 28/40\n",
            "400/400 [==============================] - 3s 7ms/step - loss: 0.7811 - accuracy: 0.7281 - val_loss: 0.8128 - val_accuracy: 0.7155\n",
            "Epoch 29/40\n",
            "400/400 [==============================] - 2s 5ms/step - loss: 0.7679 - accuracy: 0.7318 - val_loss: 0.8304 - val_accuracy: 0.7100\n",
            "Epoch 30/40\n",
            "400/400 [==============================] - 2s 6ms/step - loss: 0.7641 - accuracy: 0.7336 - val_loss: 0.8106 - val_accuracy: 0.7235\n",
            "Epoch 31/40\n",
            "400/400 [==============================] - 2s 5ms/step - loss: 0.7516 - accuracy: 0.7398 - val_loss: 0.8224 - val_accuracy: 0.7115\n",
            "Epoch 32/40\n",
            "400/400 [==============================] - 2s 5ms/step - loss: 0.7389 - accuracy: 0.7419 - val_loss: 0.8192 - val_accuracy: 0.7205\n",
            "Epoch 33/40\n",
            "400/400 [==============================] - 3s 7ms/step - loss: 0.7299 - accuracy: 0.7459 - val_loss: 0.8395 - val_accuracy: 0.7120\n",
            "Epoch 34/40\n",
            "400/400 [==============================] - 2s 5ms/step - loss: 0.7208 - accuracy: 0.7499 - val_loss: 0.8640 - val_accuracy: 0.7015\n",
            "Epoch 35/40\n",
            "400/400 [==============================] - 2s 5ms/step - loss: 0.7052 - accuracy: 0.7534 - val_loss: 0.8074 - val_accuracy: 0.7195\n",
            "Epoch 36/40\n",
            "400/400 [==============================] - 2s 5ms/step - loss: 0.7000 - accuracy: 0.7571 - val_loss: 0.7899 - val_accuracy: 0.7255\n",
            "Epoch 37/40\n",
            "400/400 [==============================] - 2s 5ms/step - loss: 0.6918 - accuracy: 0.7590 - val_loss: 0.7973 - val_accuracy: 0.7310\n",
            "Epoch 38/40\n",
            "400/400 [==============================] - 2s 6ms/step - loss: 0.6812 - accuracy: 0.7607 - val_loss: 0.8185 - val_accuracy: 0.7040\n",
            "Epoch 39/40\n",
            "400/400 [==============================] - 2s 6ms/step - loss: 0.6685 - accuracy: 0.7669 - val_loss: 0.8480 - val_accuracy: 0.7120\n",
            "Epoch 40/40\n",
            "400/400 [==============================] - 2s 5ms/step - loss: 0.6652 - accuracy: 0.7670 - val_loss: 0.8089 - val_accuracy: 0.7230\n"
          ]
        }
      ],
      "source": [
        "history_model1 = model1.fit(x_tr, y_tr, batch_size=100, epochs=40, validation_data=(x_val, y_val), validation_steps = 20)"
      ]
    },
    {
      "cell_type": "code",
      "execution_count": 14,
      "metadata": {
        "colab": {
          "base_uri": "https://localhost:8080/",
          "height": 472
        },
        "id": "GknW2_TeCDwe",
        "outputId": "bf17ce24-0490-4f9d-96c1-488bcedc1de4"
      },
      "outputs": [
        {
          "data": {
            "image/png": "[encoded data removed]",
            "text/plain": [
              "<Figure size 640x480 with 1 Axes>"
            ]
          },
          "metadata": {},
          "output_type": "display_data"
        }
      ],
      "source": [
        "# Extract the training and validation loss values from the history object\n",
        "train_loss = history_model1.history['loss']\n",
        "val_loss = history_model1.history['val_loss']\n",
        "\n",
        "# Plot the training and validation loss curves\n",
        "epochs = range(1, len(train_loss) + 1)\n",
        "plt.plot(epochs, train_loss, 'bo', label='Training Loss')\n",
        "plt.plot(epochs, val_loss, 'b', label='Validation Loss')\n",
        "plt.title('Training and Validation Loss')\n",
        "plt.xlabel('Epochs')\n",
        "plt.ylabel('Loss')\n",
        "plt.legend()\n",
        "plt.show()"
      ]
    },
    {
      "cell_type": "code",
      "execution_count": 15,
      "metadata": {
        "colab": {
          "base_uri": "https://localhost:8080/",
          "height": 472
        },
        "id": "TYBsmEtiCIaX",
        "outputId": "06cf9b62-c3df-45c7-9208-aee54e841f69"
      },
      "outputs": [
        {
          "data": {
            "image/png": "[encoded data removed]",
            "text/plain": [
              "<Figure size 640x480 with 1 Axes>"
            ]
          },
          "metadata": {},
          "output_type": "display_data"
        }
      ],
      "source": [
        "# Extract the training and validation accuracy values from the history object\n",
        "train_accuracy = history_model1.history['accuracy']\n",
        "val_accuracy = history_model1.history['val_accuracy']\n",
        "\n",
        "# Plot the training and validation accuracy curves\n",
        "epochs = range(1, len(train_loss) + 1)\n",
        "plt.plot(epochs, train_accuracy, 'bo', label='Training accuracy')\n",
        "plt.plot(epochs, val_accuracy, 'b', label='Validation accuracy')\n",
        "plt.title('Training and Validation accuracy')\n",
        "plt.xlabel('Epochs')\n",
        "plt.ylabel('accuracy')\n",
        "plt.legend()\n",
        "plt.show()"
      ]
    },
    {
      "cell_type": "code",
      "execution_count": 16,
      "metadata": {
        "id": "N9yFaKCEJGMD"
      },
      "outputs": [],
      "source": [
        "model1.compile( optimizer = optimizers.Adam(learning_rate=0.0001), loss ='categorical_crossentropy', metrics=['accuracy'] )"
      ]
    },
    {
      "cell_type": "code",
      "execution_count": 17,
      "metadata": {
        "colab": {
          "base_uri": "https://localhost:8080/"
        },
        "id": "qQeepNytJS37",
        "outputId": "ba0dd213-c249-45ad-b709-c8f496c957a8"
      },
      "outputs": [
        {
          "name": "stdout",
          "output_type": "stream",
          "text": [
            "Epoch 1/40\n",
            "391/391 [==============================] - 4s 7ms/step - loss: 0.7127 - accuracy: 0.7542\n",
            "Epoch 2/40\n",
            "391/391 [==============================] - 3s 7ms/step - loss: 0.7019 - accuracy: 0.7572\n",
            "Epoch 3/40\n",
            "391/391 [==============================] - 3s 7ms/step - loss: 0.6852 - accuracy: 0.7607\n",
            "Epoch 4/40\n",
            "391/391 [==============================] - 3s 6ms/step - loss: 0.6735 - accuracy: 0.7649\n",
            "Epoch 5/40\n",
            "391/391 [==============================] - 3s 7ms/step - loss: 0.6729 - accuracy: 0.7662\n",
            "Epoch 6/40\n",
            "391/391 [==============================] - 3s 7ms/step - loss: 0.6637 - accuracy: 0.7698\n",
            "Epoch 7/40\n",
            "391/391 [==============================] - 3s 8ms/step - loss: 0.6506 - accuracy: 0.7754\n",
            "Epoch 8/40\n",
            "391/391 [==============================] - 3s 7ms/step - loss: 0.6429 - accuracy: 0.7752\n",
            "Epoch 9/40\n",
            "391/391 [==============================] - 3s 7ms/step - loss: 0.6344 - accuracy: 0.7796\n",
            "Epoch 10/40\n",
            "391/391 [==============================] - 3s 7ms/step - loss: 0.6251 - accuracy: 0.7820\n",
            "Epoch 11/40\n",
            "391/391 [==============================] - 3s 7ms/step - loss: 0.6217 - accuracy: 0.7819\n",
            "Epoch 12/40\n",
            "391/391 [==============================] - 3s 7ms/step - loss: 0.6141 - accuracy: 0.7857\n",
            "Epoch 13/40\n",
            "391/391 [==============================] - 3s 7ms/step - loss: 0.6067 - accuracy: 0.7888\n",
            "Epoch 14/40\n",
            "391/391 [==============================] - 3s 7ms/step - loss: 0.5993 - accuracy: 0.7924\n",
            "Epoch 15/40\n",
            "391/391 [==============================] - 3s 7ms/step - loss: 0.5908 - accuracy: 0.7924\n",
            "Epoch 16/40\n",
            "391/391 [==============================] - 3s 8ms/step - loss: 0.5822 - accuracy: 0.7984\n",
            "Epoch 17/40\n",
            "391/391 [==============================] - 3s 6ms/step - loss: 0.5820 - accuracy: 0.7959\n",
            "Epoch 18/40\n",
            "391/391 [==============================] - 3s 6ms/step - loss: 0.5660 - accuracy: 0.8009\n",
            "Epoch 19/40\n",
            "391/391 [==============================] - 3s 6ms/step - loss: 0.5651 - accuracy: 0.7995\n",
            "Epoch 20/40\n",
            "391/391 [==============================] - 3s 7ms/step - loss: 0.5577 - accuracy: 0.8034\n",
            "Epoch 21/40\n",
            "391/391 [==============================] - 3s 8ms/step - loss: 0.5471 - accuracy: 0.8075\n",
            "Epoch 22/40\n",
            "391/391 [==============================] - 3s 6ms/step - loss: 0.5500 - accuracy: 0.8052\n",
            "Epoch 23/40\n",
            "391/391 [==============================] - 3s 7ms/step - loss: 0.5396 - accuracy: 0.8125\n",
            "Epoch 24/40\n",
            "391/391 [==============================] - 3s 6ms/step - loss: 0.5365 - accuracy: 0.8121\n",
            "Epoch 25/40\n",
            "391/391 [==============================] - 3s 8ms/step - loss: 0.5241 - accuracy: 0.8165\n",
            "Epoch 26/40\n",
            "391/391 [==============================] - 3s 7ms/step - loss: 0.5162 - accuracy: 0.8200\n",
            "Epoch 27/40\n",
            "391/391 [==============================] - 3s 6ms/step - loss: 0.5156 - accuracy: 0.8212\n",
            "Epoch 28/40\n",
            "391/391 [==============================] - 3s 6ms/step - loss: 0.5089 - accuracy: 0.8197\n",
            "Epoch 29/40\n",
            "391/391 [==============================] - 3s 7ms/step - loss: 0.5026 - accuracy: 0.8238\n",
            "Epoch 30/40\n",
            "391/391 [==============================] - 3s 7ms/step - loss: 0.4984 - accuracy: 0.8253\n",
            "Epoch 31/40\n",
            "391/391 [==============================] - 3s 7ms/step - loss: 0.4917 - accuracy: 0.8259\n",
            "Epoch 32/40\n",
            "391/391 [==============================] - 3s 7ms/step - loss: 0.4850 - accuracy: 0.8279\n",
            "Epoch 33/40\n",
            "391/391 [==============================] - 3s 7ms/step - loss: 0.4810 - accuracy: 0.8293\n",
            "Epoch 34/40\n",
            "391/391 [==============================] - 3s 8ms/step - loss: 0.4770 - accuracy: 0.8321\n",
            "Epoch 35/40\n",
            "391/391 [==============================] - 3s 7ms/step - loss: 0.4713 - accuracy: 0.8338\n",
            "Epoch 36/40\n",
            "391/391 [==============================] - 3s 7ms/step - loss: 0.4652 - accuracy: 0.8351\n",
            "Epoch 37/40\n",
            "391/391 [==============================] - 3s 6ms/step - loss: 0.4667 - accuracy: 0.8358\n",
            "Epoch 38/40\n",
            "391/391 [==============================] - 3s 7ms/step - loss: 0.4557 - accuracy: 0.8380\n",
            "Epoch 39/40\n",
            "391/391 [==============================] - 3s 8ms/step - loss: 0.4552 - accuracy: 0.8388\n",
            "Epoch 40/40\n",
            "391/391 [==============================] - 3s 7ms/step - loss: 0.4436 - accuracy: 0.8441\n"
          ]
        }
      ],
      "source": [
        "history_model1_train = model1.fit(x_train, y_train_vec, batch_size =128, epochs=40)"
      ]
    },
    {
      "cell_type": "code",
      "execution_count": 18,
      "metadata": {
        "colab": {
          "base_uri": "https://localhost:8080/"
        },
        "id": "pd52OH9OJVze",
        "outputId": "295d4866-b4a5-4db2-cd33-3603481cc1da"
      },
      "outputs": [
        {
          "name": "stdout",
          "output_type": "stream",
          "text": [
            "313/313 [==============================] - 1s 4ms/step - loss: 0.7724 - accuracy: 0.7398\n",
            "Loss =0.77\n",
            "Accuracy =0.74\n"
          ]
        }
      ],
      "source": [
        "accuracy = model1.evaluate(x_test, y_test_vec)\n",
        "print('Loss =' + str(round(accuracy[0],2)))\n",
        "print('Accuracy =' + str(round(accuracy[1],2)))"
      ]
    },
    {
      "attachments": {},
      "cell_type": "markdown",
      "metadata": {
        "id": "pHpR7lhxk91s"
      },
      "source": [
        "**Model 2**"
      ]
    },
    {
      "cell_type": "code",
      "execution_count": 35,
      "metadata": {
        "colab": {
          "base_uri": "https://localhost:8080/"
        },
        "id": "ks2YC4_bA3Tk",
        "outputId": "2e02316e-9311-42ab-f10c-ad19e2703d00"
      },
      "outputs": [
        {
          "name": "stdout",
          "output_type": "stream",
          "text": [
            "Model: \"sequential_4\"\n",
            "_________________________________________________________________\n",
            " Layer (type)                Output Shape              Param #   \n",
            "=================================================================\n",
            " conv2d_8 (Conv2D)           (None, 30, 30, 32)        896       \n",
            "                                                                 \n",
            " activation_9 (Activation)   (None, 30, 30, 32)        0         \n",
            "                                                                 \n",
            " max_pooling2d_8 (MaxPooling  (None, 15, 15, 32)       0         \n",
            " 2D)                                                             \n",
            "                                                                 \n",
            " conv2d_9 (Conv2D)           (None, 12, 12, 64)        32832     \n",
            "                                                                 \n",
            " batch_normalization_9 (Batc  (None, 12, 12, 64)       256       \n",
            " hNormalization)                                                 \n",
            "                                                                 \n",
            " activation_10 (Activation)  (None, 12, 12, 64)        0         \n",
            "                                                                 \n",
            " max_pooling2d_9 (MaxPooling  (None, 6, 6, 64)         0         \n",
            " 2D)                                                             \n",
            "                                                                 \n",
            " flatten_4 (Flatten)         (None, 2304)              0         \n",
            "                                                                 \n",
            " dense_8 (Dense)             (None, 256)               590080    \n",
            "                                                                 \n",
            " dropout_6 (Dropout)         (None, 256)               0         \n",
            "                                                                 \n",
            " activation_11 (Activation)  (None, 256)               0         \n",
            "                                                                 \n",
            " dropout_7 (Dropout)         (None, 256)               0         \n",
            "                                                                 \n",
            " dense_9 (Dense)             (None, 10)                2570      \n",
            "                                                                 \n",
            "=================================================================\n",
            "Total params: 626,634\n",
            "Trainable params: 626,506\n",
            "Non-trainable params: 128\n",
            "_________________________________________________________________\n"
          ]
        }
      ],
      "source": [
        "model2 = models.Sequential()\n",
        "model2.add(layers.Conv2D(32,(3,3), input_shape=(32,32,3)))\n",
        "model2.add(layers.Activation('relu'))\n",
        "model2.add(layers.MaxPooling2D((2,2)))\n",
        "model2.add(layers.Conv2D(64,(4,4)))\n",
        "model2.add(layers.BatchNormalization()) #batch normalization layers 1\n",
        "model2.add(layers.Activation('relu'))\n",
        "model2.add(layers.MaxPooling2D((2,2)))\n",
        "model2.add(layers.Flatten())\n",
        "model2.add(layers.Dense(256))\n",
        "model2.add(layers.Dropout(0.4)) #dropout layer 1\n",
        "#model2.add(layers.BatchNormalization()) #batch normalization layers 2\n",
        "model2.add(layers.Activation('relu'))\n",
        "model2.add(layers.Dropout(0.5)) #dropout layer 2\n",
        "#model2.add(layers.BatchNormalization()) #batch normalization layers 3\n",
        "model2.add(layers.Dense(10, activation='softmax'))\n",
        "\n",
        "model2.summary()"
      ]
    },
    {
      "cell_type": "code",
      "execution_count": 36,
      "metadata": {
        "id": "_4AMjp7yaiW5"
      },
      "outputs": [],
      "source": [
        "model2.compile( optimizer = optimizers.Adam(learning_rate=0.0001), loss ='categorical_crossentropy', metrics=['accuracy'] )"
      ]
    },
    {
      "cell_type": "code",
      "execution_count": 37,
      "metadata": {
        "colab": {
          "base_uri": "https://localhost:8080/"
        },
        "id": "p7UN9Qz0bUwq",
        "outputId": "a935a394-1588-4f5c-de40-be9eb4bf0cb3"
      },
      "outputs": [
        {
          "name": "stdout",
          "output_type": "stream",
          "text": [
            "Epoch 1/40\n",
            "400/400 [==============================] - 3s 5ms/step - loss: 2.0330 - accuracy: 0.2752 - val_loss: 1.6919 - val_accuracy: 0.4195\n",
            "Epoch 2/40\n",
            "400/400 [==============================] - 2s 4ms/step - loss: 1.7050 - accuracy: 0.3850 - val_loss: 1.4725 - val_accuracy: 0.4850\n",
            "Epoch 3/40\n",
            "400/400 [==============================] - 2s 5ms/step - loss: 1.5572 - accuracy: 0.4405 - val_loss: 1.4549 - val_accuracy: 0.4740\n",
            "Epoch 4/40\n",
            "400/400 [==============================] - 2s 4ms/step - loss: 1.4539 - accuracy: 0.4796 - val_loss: 1.2890 - val_accuracy: 0.5420\n",
            "Epoch 5/40\n",
            "400/400 [==============================] - 2s 5ms/step - loss: 1.3828 - accuracy: 0.5062 - val_loss: 1.2769 - val_accuracy: 0.5380\n",
            "Epoch 6/40\n",
            "400/400 [==============================] - 2s 5ms/step - loss: 1.3256 - accuracy: 0.5311 - val_loss: 1.2313 - val_accuracy: 0.5685\n",
            "Epoch 7/40\n",
            "400/400 [==============================] - 2s 5ms/step - loss: 1.2751 - accuracy: 0.5495 - val_loss: 1.1541 - val_accuracy: 0.5810\n",
            "Epoch 8/40\n",
            "400/400 [==============================] - 2s 4ms/step - loss: 1.2359 - accuracy: 0.5633 - val_loss: 1.1268 - val_accuracy: 0.5895\n",
            "Epoch 9/40\n",
            "400/400 [==============================] - 2s 4ms/step - loss: 1.1919 - accuracy: 0.5781 - val_loss: 1.1241 - val_accuracy: 0.5940\n",
            "Epoch 10/40\n",
            "400/400 [==============================] - 2s 5ms/step - loss: 1.1593 - accuracy: 0.5964 - val_loss: 1.0705 - val_accuracy: 0.6105\n",
            "Epoch 11/40\n",
            "400/400 [==============================] - 2s 4ms/step - loss: 1.1279 - accuracy: 0.6019 - val_loss: 1.1715 - val_accuracy: 0.6020\n",
            "Epoch 12/40\n",
            "400/400 [==============================] - 2s 6ms/step - loss: 1.0979 - accuracy: 0.6148 - val_loss: 1.0369 - val_accuracy: 0.6275\n",
            "Epoch 13/40\n",
            "400/400 [==============================] - 2s 5ms/step - loss: 1.0763 - accuracy: 0.6262 - val_loss: 1.0738 - val_accuracy: 0.6280\n",
            "Epoch 14/40\n",
            "400/400 [==============================] - 2s 4ms/step - loss: 1.0489 - accuracy: 0.6300 - val_loss: 1.0449 - val_accuracy: 0.6210\n",
            "Epoch 15/40\n",
            "400/400 [==============================] - 2s 5ms/step - loss: 1.0277 - accuracy: 0.6418 - val_loss: 1.0070 - val_accuracy: 0.6460\n",
            "Epoch 16/40\n",
            "400/400 [==============================] - 2s 5ms/step - loss: 1.0126 - accuracy: 0.6452 - val_loss: 0.9772 - val_accuracy: 0.6530\n",
            "Epoch 17/40\n",
            "400/400 [==============================] - 2s 4ms/step - loss: 0.9906 - accuracy: 0.6520 - val_loss: 1.0328 - val_accuracy: 0.6365\n",
            "Epoch 18/40\n",
            "400/400 [==============================] - 2s 5ms/step - loss: 0.9688 - accuracy: 0.6587 - val_loss: 0.9933 - val_accuracy: 0.6395\n",
            "Epoch 19/40\n",
            "400/400 [==============================] - 2s 5ms/step - loss: 0.9465 - accuracy: 0.6658 - val_loss: 0.9564 - val_accuracy: 0.6570\n",
            "Epoch 20/40\n",
            "400/400 [==============================] - 2s 4ms/step - loss: 0.9306 - accuracy: 0.6740 - val_loss: 0.9322 - val_accuracy: 0.6630\n",
            "Epoch 21/40\n",
            "400/400 [==============================] - 2s 4ms/step - loss: 0.9237 - accuracy: 0.6760 - val_loss: 0.9003 - val_accuracy: 0.6830\n",
            "Epoch 22/40\n",
            "400/400 [==============================] - 2s 5ms/step - loss: 0.9003 - accuracy: 0.6845 - val_loss: 0.9057 - val_accuracy: 0.6790\n",
            "Epoch 23/40\n",
            "400/400 [==============================] - 2s 4ms/step - loss: 0.8900 - accuracy: 0.6889 - val_loss: 0.8773 - val_accuracy: 0.6875\n",
            "Epoch 24/40\n",
            "400/400 [==============================] - 2s 5ms/step - loss: 0.8760 - accuracy: 0.6925 - val_loss: 0.9523 - val_accuracy: 0.6685\n",
            "Epoch 25/40\n",
            "400/400 [==============================] - 3s 6ms/step - loss: 0.8551 - accuracy: 0.7004 - val_loss: 0.9187 - val_accuracy: 0.6635\n",
            "Epoch 26/40\n",
            "400/400 [==============================] - 2s 5ms/step - loss: 0.8475 - accuracy: 0.7021 - val_loss: 0.9126 - val_accuracy: 0.6695\n",
            "Epoch 27/40\n",
            "400/400 [==============================] - 2s 5ms/step - loss: 0.8321 - accuracy: 0.7079 - val_loss: 0.8647 - val_accuracy: 0.6975\n",
            "Epoch 28/40\n",
            "400/400 [==============================] - 2s 4ms/step - loss: 0.8185 - accuracy: 0.7129 - val_loss: 0.8532 - val_accuracy: 0.6995\n",
            "Epoch 29/40\n",
            "400/400 [==============================] - 2s 5ms/step - loss: 0.8091 - accuracy: 0.7156 - val_loss: 0.8609 - val_accuracy: 0.6995\n",
            "Epoch 30/40\n",
            "400/400 [==============================] - 2s 4ms/step - loss: 0.7964 - accuracy: 0.7200 - val_loss: 0.8538 - val_accuracy: 0.7025\n",
            "Epoch 31/40\n",
            "400/400 [==============================] - 2s 5ms/step - loss: 0.7854 - accuracy: 0.7247 - val_loss: 0.9028 - val_accuracy: 0.6815\n",
            "Epoch 32/40\n",
            "400/400 [==============================] - 2s 5ms/step - loss: 0.7734 - accuracy: 0.7293 - val_loss: 0.8219 - val_accuracy: 0.7125\n",
            "Epoch 33/40\n",
            "400/400 [==============================] - 2s 4ms/step - loss: 0.7637 - accuracy: 0.7309 - val_loss: 0.8853 - val_accuracy: 0.7015\n",
            "Epoch 34/40\n",
            "400/400 [==============================] - 2s 5ms/step - loss: 0.7565 - accuracy: 0.7345 - val_loss: 0.9110 - val_accuracy: 0.6915\n",
            "Epoch 35/40\n",
            "400/400 [==============================] - 2s 4ms/step - loss: 0.7419 - accuracy: 0.7414 - val_loss: 0.8613 - val_accuracy: 0.6960\n",
            "Epoch 36/40\n",
            "400/400 [==============================] - 2s 4ms/step - loss: 0.7322 - accuracy: 0.7426 - val_loss: 0.8502 - val_accuracy: 0.6975\n",
            "Epoch 37/40\n",
            "400/400 [==============================] - 2s 4ms/step - loss: 0.7235 - accuracy: 0.7468 - val_loss: 0.9065 - val_accuracy: 0.6900\n",
            "Epoch 38/40\n",
            "400/400 [==============================] - 2s 5ms/step - loss: 0.7125 - accuracy: 0.7497 - val_loss: 0.8408 - val_accuracy: 0.7170\n",
            "Epoch 39/40\n",
            "400/400 [==============================] - 2s 5ms/step - loss: 0.7044 - accuracy: 0.7499 - val_loss: 0.8677 - val_accuracy: 0.7030\n",
            "Epoch 40/40\n",
            "400/400 [==============================] - 2s 4ms/step - loss: 0.6952 - accuracy: 0.7554 - val_loss: 0.8482 - val_accuracy: 0.7065\n"
          ]
        }
      ],
      "source": [
        "history_train_2 = model2.fit(x_tr, y_tr, batch_size=100, epochs=40, validation_data=(x_val, y_val), validation_steps = 20)"
      ]
    },
    {
      "cell_type": "code",
      "execution_count": 38,
      "metadata": {
        "colab": {
          "base_uri": "https://localhost:8080/",
          "height": 472
        },
        "id": "qXs5uqFNbV8K",
        "outputId": "4f59e3ea-0f5d-49e2-d28b-694820e8f11a"
      },
      "outputs": [
        {
          "data": {
            "image/png": "[encoded data removed]",
            "text/plain": [
              "<Figure size 640x480 with 1 Axes>"
            ]
          },
          "metadata": {},
          "output_type": "display_data"
        }
      ],
      "source": [
        "# Extract the training and validation loss values from the history object\n",
        "train_loss = history_train_2.history['loss']\n",
        "val_loss = history_train_2.history['val_loss']\n",
        "\n",
        "# Plot the training and validation loss curves\n",
        "epochs = range(1, len(train_loss) + 1)\n",
        "plt.plot(epochs, train_loss, 'bo', label='Training Loss')\n",
        "plt.plot(epochs, val_loss, 'b', label='Validation Loss')\n",
        "plt.title('Training and Validation Loss')\n",
        "plt.xlabel('Epochs')\n",
        "plt.ylabel('Loss')\n",
        "plt.legend()\n",
        "plt.show()"
      ]
    },
    {
      "cell_type": "code",
      "execution_count": 39,
      "metadata": {
        "colab": {
          "base_uri": "https://localhost:8080/",
          "height": 472
        },
        "id": "8LCKjcelbg4z",
        "outputId": "44032631-b6bd-4a16-c21f-0619931c712d"
      },
      "outputs": [
        {
          "data": {
            "image/png": "[encoded data removed]",
            "text/plain": [
              "<Figure size 640x480 with 1 Axes>"
            ]
          },
          "metadata": {},
          "output_type": "display_data"
        }
      ],
      "source": [
        "# Extract the training and validation accuracy values from the history object\n",
        "train_accuracy = history_train_2.history['accuracy']\n",
        "val_accuracy = history_train_2.history['val_accuracy']\n",
        "\n",
        "# Plot the training and validation accuracy curves\n",
        "epochs = range(1, len(train_loss) + 1)\n",
        "plt.plot(epochs, train_accuracy, 'bo', label='Training accuracy')\n",
        "plt.plot(epochs, val_accuracy, 'b', label='Validation accuracy')\n",
        "plt.title('Training and Validation accuracy')\n",
        "plt.xlabel('Epochs')\n",
        "plt.ylabel('accuracy')\n",
        "plt.legend()\n",
        "plt.show()"
      ]
    },
    {
      "cell_type": "code",
      "execution_count": 40,
      "metadata": {
        "id": "WiZ8hGsnB7_J"
      },
      "outputs": [],
      "source": [
        "model2.compile( optimizer = optimizers.Adam(learning_rate=0.0001), loss ='categorical_crossentropy', metrics=['accuracy'] )"
      ]
    },
    {
      "cell_type": "code",
      "execution_count": 41,
      "metadata": {
        "colab": {
          "base_uri": "https://localhost:8080/"
        },
        "id": "pt9-DKuICAzd",
        "outputId": "829affb9-c983-4815-c229-7686660b587f"
      },
      "outputs": [
        {
          "name": "stdout",
          "output_type": "stream",
          "text": [
            "Epoch 1/40\n",
            "391/391 [==============================] - 3s 5ms/step - loss: 0.7455 - accuracy: 0.7419\n",
            "Epoch 2/40\n",
            "391/391 [==============================] - 2s 5ms/step - loss: 0.7347 - accuracy: 0.7434\n",
            "Epoch 3/40\n",
            "391/391 [==============================] - 2s 5ms/step - loss: 0.7189 - accuracy: 0.7512\n",
            "Epoch 4/40\n",
            "391/391 [==============================] - 2s 5ms/step - loss: 0.7095 - accuracy: 0.7530\n",
            "Epoch 5/40\n",
            "391/391 [==============================] - 2s 6ms/step - loss: 0.7022 - accuracy: 0.7555\n",
            "Epoch 6/40\n",
            "391/391 [==============================] - 2s 6ms/step - loss: 0.6875 - accuracy: 0.7598\n",
            "Epoch 7/40\n",
            "391/391 [==============================] - 2s 5ms/step - loss: 0.6819 - accuracy: 0.7615\n",
            "Epoch 8/40\n",
            "391/391 [==============================] - 2s 5ms/step - loss: 0.6753 - accuracy: 0.7608\n",
            "Epoch 9/40\n",
            "391/391 [==============================] - 2s 5ms/step - loss: 0.6689 - accuracy: 0.7641\n",
            "Epoch 10/40\n",
            "391/391 [==============================] - 2s 5ms/step - loss: 0.6590 - accuracy: 0.7688\n",
            "Epoch 11/40\n",
            "391/391 [==============================] - 2s 6ms/step - loss: 0.6500 - accuracy: 0.7720\n",
            "Epoch 12/40\n",
            "391/391 [==============================] - 2s 6ms/step - loss: 0.6451 - accuracy: 0.7737\n",
            "Epoch 13/40\n",
            "391/391 [==============================] - 2s 5ms/step - loss: 0.6368 - accuracy: 0.7759\n",
            "Epoch 14/40\n",
            "391/391 [==============================] - 2s 5ms/step - loss: 0.6271 - accuracy: 0.7771\n",
            "Epoch 15/40\n",
            "391/391 [==============================] - 2s 5ms/step - loss: 0.6133 - accuracy: 0.7819\n",
            "Epoch 16/40\n",
            "391/391 [==============================] - 2s 5ms/step - loss: 0.6084 - accuracy: 0.7860\n",
            "Epoch 17/40\n",
            "391/391 [==============================] - 2s 6ms/step - loss: 0.6043 - accuracy: 0.7873\n",
            "Epoch 18/40\n",
            "391/391 [==============================] - 2s 6ms/step - loss: 0.5959 - accuracy: 0.7878\n",
            "Epoch 19/40\n",
            "391/391 [==============================] - 2s 5ms/step - loss: 0.5868 - accuracy: 0.7922\n",
            "Epoch 20/40\n",
            "391/391 [==============================] - 2s 5ms/step - loss: 0.5801 - accuracy: 0.7954\n",
            "Epoch 21/40\n",
            "391/391 [==============================] - 2s 5ms/step - loss: 0.5719 - accuracy: 0.7978\n",
            "Epoch 22/40\n",
            "391/391 [==============================] - 2s 5ms/step - loss: 0.5635 - accuracy: 0.8014\n",
            "Epoch 23/40\n",
            "391/391 [==============================] - 2s 6ms/step - loss: 0.5633 - accuracy: 0.8000\n",
            "Epoch 24/40\n",
            "391/391 [==============================] - 2s 5ms/step - loss: 0.5551 - accuracy: 0.8017\n",
            "Epoch 25/40\n",
            "391/391 [==============================] - 2s 5ms/step - loss: 0.5449 - accuracy: 0.8051\n",
            "Epoch 26/40\n",
            "391/391 [==============================] - 2s 5ms/step - loss: 0.5451 - accuracy: 0.8080\n",
            "Epoch 27/40\n",
            "391/391 [==============================] - 2s 5ms/step - loss: 0.5330 - accuracy: 0.8110\n",
            "Epoch 28/40\n",
            "391/391 [==============================] - 2s 6ms/step - loss: 0.5290 - accuracy: 0.8116\n",
            "Epoch 29/40\n",
            "391/391 [==============================] - 2s 6ms/step - loss: 0.5286 - accuracy: 0.8126\n",
            "Epoch 30/40\n",
            "391/391 [==============================] - 2s 5ms/step - loss: 0.5202 - accuracy: 0.8147\n",
            "Epoch 31/40\n",
            "391/391 [==============================] - 2s 5ms/step - loss: 0.5109 - accuracy: 0.8198\n",
            "Epoch 32/40\n",
            "391/391 [==============================] - 2s 5ms/step - loss: 0.5078 - accuracy: 0.8189\n",
            "Epoch 33/40\n",
            "391/391 [==============================] - 2s 5ms/step - loss: 0.5023 - accuracy: 0.8217\n",
            "Epoch 34/40\n",
            "391/391 [==============================] - 2s 5ms/step - loss: 0.4939 - accuracy: 0.8239\n",
            "Epoch 35/40\n",
            "391/391 [==============================] - 2s 6ms/step - loss: 0.4942 - accuracy: 0.8206\n",
            "Epoch 36/40\n",
            "391/391 [==============================] - 2s 5ms/step - loss: 0.4854 - accuracy: 0.8270\n",
            "Epoch 37/40\n",
            "391/391 [==============================] - 2s 5ms/step - loss: 0.4807 - accuracy: 0.8280\n",
            "Epoch 38/40\n",
            "391/391 [==============================] - 2s 5ms/step - loss: 0.4760 - accuracy: 0.8288\n",
            "Epoch 39/40\n",
            "391/391 [==============================] - 2s 5ms/step - loss: 0.4675 - accuracy: 0.8319\n",
            "Epoch 40/40\n",
            "391/391 [==============================] - 2s 5ms/step - loss: 0.4643 - accuracy: 0.8334\n"
          ]
        }
      ],
      "source": [
        "history_model2_train = model2.fit(x_train, y_train_vec, batch_size =128, epochs=40)"
      ]
    },
    {
      "cell_type": "code",
      "execution_count": 42,
      "metadata": {
        "colab": {
          "base_uri": "https://localhost:8080/"
        },
        "id": "poNgdv9vCCbF",
        "outputId": "a4bc8473-5dc1-4e95-c0fa-b3c1fc76f3c1"
      },
      "outputs": [
        {
          "name": "stdout",
          "output_type": "stream",
          "text": [
            "313/313 [==============================] - 1s 4ms/step - loss: 0.7890 - accuracy: 0.7475\n",
            "Loss =0.79\n",
            "Accuracy =0.75\n"
          ]
        }
      ],
      "source": [
        "accuracy = model2.evaluate(x_test, y_test_vec)\n",
        "print('Loss =' + str(round(accuracy[0],2)))\n",
        "print('Accuracy =' + str(round(accuracy[1],2)))"
      ]
    },
    {
      "attachments": {},
      "cell_type": "markdown",
      "metadata": {
        "id": "h4bg2WE0mflU"
      },
      "source": [
        "For Actual Model, I used Adam as optimisers with learning rate of 0.0001. I was able to achieve 66% accuracy overall. \\\\\n",
        "For Model 1, I used 4 batch normalization layer and 2 drop out layer with each drop out rate of 0.5. I achieved accuracy of 74%. \\\\\n",
        "For Model 2, I used 3 batch normalization layer and 1 drop out layer with value of 0.4 and oth with value of 0.5. I achieved accuracy of 75% \n",
        "Also I have applied Data Augmentatio to improve accuracy above 80% and pretrained techniques to around 90%."
      ]
    }
  ],
  "metadata": {
    "accelerator": "GPU",
    "colab": {
      "provenance": []
    },
    "gpuClass": "standard",
    "kernelspec": {
      "display_name": "Python 3",
      "language": "python",
      "name": "python3"
    },
    "language_info": {
      "codemirror_mode": {
        "name": "ipython",
        "version": 3
      },
      "file_extension": ".py",
      "mimetype": "text/x-python",
      "name": "python",
      "nbconvert_exporter": "python",
      "pygments_lexer": "ipython3",
      "version": "3.8.8"
    }
  },
  "nbformat": 4,
  "nbformat_minor": 0
}

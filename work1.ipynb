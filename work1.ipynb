{
  "cells": [
    {
      "attachments": {},
      "cell_type": "markdown",
      "metadata": {
        "id": "oDOBSpmVpf14"
      },
      "source": [
        "## Logistic Regression.\n"
      ]
    },
    {
      "attachments": {},
      "cell_type": "markdown",
      "metadata": {
        "id": "rnp8IjhBpf16"
      },
      "source": [
        "#### Built 6 models and trained Logistic Regression/Regularized Logistic Regression each with Batch Gradient Descent, Stochastic Gradient Descent and Mini Batch Gradient Descent. Also, plot their objective values versus epochs and compare their training and testing accuracy and tuned the parameters a little bit to obtain reasonable results."
      ]
    },
    {
      "cell_type": "code",
      "execution_count": 48,
      "metadata": {
        "id": "mNsq3Pqppf17"
      },
      "outputs": [],
      "source": [
        "# Load Packages\n",
        "import pandas as pd\n",
        "import numpy \n",
        "import decimal as dc\n",
        "from sklearn.preprocessing import LabelEncoder\n",
        "from sklearn.model_selection import train_test_split\n",
        "#import warnings\n",
        "#warnings.filterwarnings('ignore')"
      ]
    },
    {
      "attachments": {},
      "cell_type": "markdown",
      "metadata": {
        "id": "q24KGWTzpf17"
      },
      "source": [
        "# 1. Data processing\n",
        "\n",
        "- Download the Breast Cancer dataset from https://archive.ics.uci.edu/ml/datasets/breast+cancer+wisconsin+(diagnostic)\n",
        "- Load the data.\n",
        "- Preprocess the data."
      ]
    },
    {
      "attachments": {},
      "cell_type": "markdown",
      "metadata": {
        "id": "7AD-ZYa3pf17"
      },
      "source": [
        "## 1.1. Load the data"
      ]
    },
    {
      "cell_type": "code",
      "execution_count": 50,
      "metadata": {
        "colab": {
          "base_uri": "https://localhost:8080/"
        },
        "id": "__XOSHzEpf17",
        "outputId": "7c2cd617-b6c5-43b1-f337-c701942c81e1"
      },
      "outputs": [
        {
          "name": "stdout",
          "output_type": "stream",
          "text": [
            "id                         0\n",
            "diagnosis                  0\n",
            "radius_mean                0\n",
            "texture_mean               0\n",
            "perimeter_mean             0\n",
            "area_mean                  0\n",
            "smoothness_mean            0\n",
            "compactness_mean           0\n",
            "concavity_mean             0\n",
            "concave points_mean        0\n",
            "symmetry_mean              0\n",
            "fractal_dimension_mean     0\n",
            "radius_se                  0\n",
            "texture_se                 0\n",
            "perimeter_se               0\n",
            "area_se                    0\n",
            "smoothness_se              0\n",
            "compactness_se             0\n",
            "concavity_se               0\n",
            "concave points_se          0\n",
            "symmetry_se                0\n",
            "fractal_dimension_se       0\n",
            "radius_worst               0\n",
            "texture_worst              0\n",
            "perimeter_worst            0\n",
            "area_worst                 0\n",
            "smoothness_worst           0\n",
            "compactness_worst          0\n",
            "concavity_worst            0\n",
            "concave points_worst       0\n",
            "symmetry_worst             0\n",
            "fractal_dimension_worst    0\n",
            "dtype: int64\n"
          ]
        }
      ],
      "source": [
        "data = pd.read_csv(\"/breast-cancer-wisconsin.csv\", na_values = \"?\")\n",
        "print(data.isna().sum())  #missing values in data\n",
        "n = data.shape[0]"
      ]
    },
    {
      "attachments": {},
      "cell_type": "markdown",
      "metadata": {
        "id": "4-xZBlDGpf17"
      },
      "source": [
        "## 1.2 Examine and clean data"
      ]
    },
    {
      "cell_type": "code",
      "execution_count": 51,
      "metadata": {
        "id": "kA_hdywBpf17"
      },
      "outputs": [],
      "source": [
        "# I have dropped id number as it is useless for achieving actual goal \n",
        "# I transformed target labels in the second column from 'B' and 'M' to 1 and -1.\n",
        "for i in range(len(data)):\n",
        "    if data.diagnosis.values[i] == 'B':\n",
        "        data.diagnosis.values[i] = 1\n",
        "    elif data.diagnosis.values[i] == 'M':\n",
        "        data.diagnosis.values[i] = -1\n",
        "X = data.iloc[:,2:32]\n",
        "y = data.iloc[:,1]\n",
        "X = numpy.concatenate((X, numpy.ones((n,1))), axis = 1)\n",
        "data1 = data.iloc[:,1:32]\n",
        "data1 = numpy.concatenate((data1, numpy.ones((n,1))), axis = 1)"
      ]
    },
    {
      "attachments": {},
      "cell_type": "markdown",
      "metadata": {
        "id": "6LmYL8L0pf17"
      },
      "source": [
        "## 1.3. Partition to training and testing sets"
      ]
    },
    {
      "cell_type": "code",
      "execution_count": 52,
      "metadata": {
        "colab": {
          "base_uri": "https://localhost:8080/"
        },
        "id": "9IwAYxpdpf17",
        "outputId": "4d5af913-77b7-44df-f4f0-ca30e7066247"
      },
      "outputs": [
        {
          "name": "stdout",
          "output_type": "stream",
          "text": [
            "(455, 31) (114, 31) (455,) (114,)\n"
          ]
        }
      ],
      "source": [
        "# I partitioned using 80% training data and 20% testing data. It is a commonly used ratio in machine learning.\n",
        "x_train, x_test, y_train, y_test = train_test_split(X, y ,test_size=0.20, random_state=104)\n",
        "print(x_train.shape, x_test.shape, y_train.shape, y_test.shape)"
      ]
    },
    {
      "attachments": {},
      "cell_type": "markdown",
      "metadata": {
        "id": "exqYGRjhpf17"
      },
      "source": [
        "## 1.4. Feature scaling"
      ]
    },
    {
      "attachments": {},
      "cell_type": "markdown",
      "metadata": {
        "id": "mdt0pVNZpf18"
      },
      "source": [
        "Use the standardization to transform both training and test features"
      ]
    },
    {
      "cell_type": "code",
      "execution_count": 53,
      "metadata": {
        "colab": {
          "base_uri": "https://localhost:8080/"
        },
        "id": "JOKu0haHpf18",
        "outputId": "ecc92450-11f6-4ffa-848f-de0be145f0c9"
      },
      "outputs": [
        {
          "name": "stdout",
          "output_type": "stream",
          "text": [
            "test mean = \n",
            "[-0.03918771  0.03224115 -0.034305   -0.04762005  0.05548801  0.04032117\n",
            "  0.04294226  0.03454617  0.1057932   0.08823995 -0.02361691 -0.07529889\n",
            " -0.03524359 -0.04876564  0.08804058 -0.03433828 -0.00767958  0.05448303\n",
            " -0.1066496  -0.00529486 -0.01567734  0.0491125  -0.02178224 -0.01692623\n",
            "  0.12538072 -0.02797654  0.02510498  0.0411214  -0.01728766  0.07675517\n",
            "  0.        ]\n",
            "test std = \n",
            "[0.9073232  0.96373579 0.90015462 0.85759948 1.02631216 1.04825854\n",
            " 1.00339182 0.93860019 1.04465493 1.11160245 0.82606559 0.82066776\n",
            " 0.81033187 0.72510866 0.88613649 0.90586538 0.78215094 0.88572424\n",
            " 0.87157251 0.83118636 0.93290491 1.06839362 0.91486589 0.94036226\n",
            " 1.13386132 0.97824412 1.00014728 0.93624929 0.77181074 1.22789735\n",
            " 0.        ]\n"
          ]
        }
      ],
      "source": [
        "# Standardization\n",
        "\n",
        "\n",
        "# calculate mu and sig using the training set\n",
        "d = x_train.shape[1]\n",
        "mu = numpy.mean(x_train, axis=0).reshape(1, d)\n",
        "sig = numpy.std(x_train, axis=0).reshape(1, d)\n",
        "\n",
        "# transform the training features\n",
        "x_train = (x_train - mu) / (sig + 1E-6)\n",
        "\n",
        "# transform the test features\n",
        "x_test = (x_test - mu) / (sig + 1E-6)\n",
        "\n",
        "print('test mean = ')\n",
        "print(numpy.mean(x_test, axis=0))\n",
        "print('test std = ')\n",
        "print(numpy.std(x_test, axis=0))"
      ]
    },
    {
      "attachments": {},
      "cell_type": "markdown",
      "metadata": {
        "id": "z8CWAIxQpf18"
      },
      "source": [
        "# 2.  Logistic Regression Model\n",
        "\n",
        "The objective function is $Q (w; X, y) = \\frac{1}{n} \\sum_{i=1}^n \\log \\Big( 1 + \\exp \\big( - y_i x_i^T w \\big) \\Big) + \\frac{\\lambda}{2} \\| w \\|_2^2 $.\n",
        "\n",
        "When $\\lambda = 0$, the model is a regular logistic regression and when $\\lambda > 0$, it essentially becomes a regularized logistic regression."
      ]
    },
    {
      "cell_type": "code",
      "execution_count": 56,
      "metadata": {
        "id": "JvJkIU3mpf18"
      },
      "outputs": [],
      "source": [
        "# Calculated the objective function value, or loss\n",
        "# Inputs:\n",
        "#     w: weight: d-by-1 matrix\n",
        "#     x: data: n-by-d matrix\n",
        "#     y: label: n-by-1 matrix\n",
        "#     lam: regularization parameter: scalar\n",
        "# Return:\n",
        "#     objective function value, or loss (scalar)\n",
        "def objective(w, x, y, lam):\n",
        "    n = x.shape[0]\n",
        "    xy = numpy.multiply(x,y)\n",
        "    xyw = numpy.dot(xy,w)\n",
        "    val1 = numpy.array(xyw, dtype= numpy.float128)  #to avoid overflow issue\n",
        "\n",
        "    exp_term = (1 + numpy.exp(-val1)).astype(float)\n",
        "    term = numpy.log(exp_term)\n",
        "    log = 1/n * numpy.sum(term)\n",
        "    reg = 0.5 * lam * numpy.linalg.norm(w)**2\n",
        "    obj = log + reg\n",
        "    return obj"
      ]
    },
    {
      "attachments": {},
      "cell_type": "markdown",
      "metadata": {
        "id": "1xxPP6eTpf18"
      },
      "source": [
        "# 3. Numerical optimization"
      ]
    },
    {
      "attachments": {},
      "cell_type": "markdown",
      "metadata": {
        "id": "xxvYStLBpf18"
      },
      "source": [
        "## 3.1. Gradient descent\n"
      ]
    },
    {
      "attachments": {},
      "cell_type": "markdown",
      "metadata": {
        "id": "45Od7gtYpf18"
      },
      "source": [
        "The gradient at $w$ for regularized logistic regression is  $g = - \\frac{1}{n} \\sum_{i=1}^n \\frac{y_i x_i }{1 + \\exp ( y_i x_i^T w)} + \\lambda w$"
      ]
    },
    {
      "cell_type": "code",
      "execution_count": 60,
      "metadata": {
        "id": "AIReWGLxpf18"
      },
      "outputs": [],
      "source": [
        "# Calculated the gradient\n",
        "# Inputs:\n",
        "#     w: weight: d-by-1 matrix\n",
        "#     x: data: n-by-d matrix\n",
        "#     y: label: n-by-1 matrix\n",
        "#     lam: regularization parameter: scalar\n",
        "# Return:\n",
        "#     g: gradient: d-by-1 matrix\n",
        "\n",
        "def gradient(w, x, y, lam):\n",
        "    n = x.shape[0]\n",
        "    xy = numpy.multiply(x,y)\n",
        "    xyw = numpy.dot(xy,w)\n",
        "    val1 = numpy.array(xyw, dtype= numpy.float128)\n",
        "    \n",
        "    exp_term = (1 + numpy.exp(val1)).astype(float)\n",
        "   # print(exp_term)\n",
        "    term = numpy.divide(xy,exp_term)\n",
        "    grad = -1/n * numpy.sum(term, axis=0).reshape(-1,1)   #summation of all rows for each colum to retrieve 31 by 1 matrix\n",
        "    reg = lam * w\n",
        "    g = grad + reg\n",
        "    return g"
      ]
    },
    {
      "cell_type": "code",
      "execution_count": 61,
      "metadata": {
        "id": "D-p5pHQ4pf18"
      },
      "outputs": [],
      "source": [
        "# Gradient descent for solving logistic regression\n",
        "# iterative processes (loops) were used to obtain optimal weights in this function\n",
        "\n",
        "# Inputs:\n",
        "#     x: data: n-by-d matrix\n",
        "#     y: label: n-by-1 matrix\n",
        "#     lam: scalar, the regularization parameter\n",
        "#     learning_rate: scalar\n",
        "#     w: weights: d-by-1 matrix, initialization of w\n",
        "#     max_epoch: integer, the maximal epochs\n",
        "# Return:\n",
        "#     w: weights: d-by-1 matrix, the solution\n",
        "#     objvals: a record of each epoch's objective value\n",
        "\n",
        "def gradient_descent(x, y, lam, learning_rate, w, max_epoch=100):\n",
        "    objvals = []\n",
        "    for epoch in range(max_epoch):\n",
        "        g = gradient(w, x, y, lam)\n",
        "        w = w - (learning_rate * g)\n",
        "        obj = objective(w,x,y,lam)\n",
        "        objvals.append(obj)\n",
        "    return w, objvals     #return update weights and last object values for each weights updated"
      ]
    },
    {
      "attachments": {},
      "cell_type": "markdown",
      "metadata": {
        "id": "8Iagw_Mqpf18"
      },
      "source": [
        "Use gradient_descent function to obtain your optimal weights and a list of objective values over each epoch."
      ]
    },
    {
      "cell_type": "code",
      "execution_count": 62,
      "metadata": {
        "colab": {
          "base_uri": "https://localhost:8080/"
        },
        "id": "Gwzrazlepf18",
        "outputId": "6f2bd9f1-757c-4789-f795-d3a1887831f2"
      },
      "outputs": [
        {
          "name": "stdout",
          "output_type": "stream",
          "text": [
            "Optimal weights: [[-0.5235558452967161]\n",
            " [-0.5047581011781033]\n",
            " [-0.5124956557225834]\n",
            " [-0.5844880392682508]\n",
            " [-0.14142580780416708]\n",
            " [0.016099220991514288]\n",
            " [-0.563532857621189]\n",
            " [-0.643855678131429]\n",
            " [-0.11785508727476067]\n",
            " [0.2778683485772972]\n",
            " [-0.7566769753317775]\n",
            " [-0.11522812924321259]\n",
            " [-0.6139649998671523]\n",
            " [-0.6632216393616063]\n",
            " [-0.029076039600002174]\n",
            " [0.34230927136408545]\n",
            " [0.09814800059280165]\n",
            " [-0.022716267985073646]\n",
            " [0.11925969970549881]\n",
            " [0.3775075674656629]\n",
            " [-0.7550315535955442]\n",
            " [-0.7686831303640155]\n",
            " [-0.7108746542318009]\n",
            " [-0.775959051331699]\n",
            " [-0.4655012376023029]\n",
            " [-0.18604695566414933]\n",
            " [-0.5249205725829575]\n",
            " [-0.6560341346829839]\n",
            " [-0.47327857875736845]\n",
            " [-0.13391969058199263]\n",
            " [0.0]]\n",
            "objective value: [0.24062305041150986, 0.20739838968685337, 0.18616514204775222, 0.17126793734525889, 0.160174111996135, 0.1515352006914898, 0.14457065809618067, 0.13880305257808098, 0.1339251161090122, 0.12972969310054075, 0.1260714583638303, 0.12284503169837185, 0.119971866016535, 0.11739204584332852, 0.11505896046044944, 0.1129357303119703, 0.1109927419319089, 0.10920590604022443, 0.10755540045262016, 0.1060247458663901, 0.10460011506992488, 0.10326980893450106, 0.10202385359135353, 0.10085368700679732, 0.0997519124183284, 0.09871210240646511, 0.09772864175696257, 0.09679660035423676, 0.09591162955225704, 0.09506987706568157, 0.09426791659363658, 0.0935026892549594, 0.0927714545621926, 0.09207174915163986, 0.09140135186043313, 0.09075825402886495, 0.09014063412891375, 0.08954683599376338, 0.08897535005984065, 0.08842479714112308, 0.08789391434167751, 0.08738154278147243, 0.0868866168661748, 0.08640815487674526, 0.0859452506913736, 0.0854970664823509, 0.08506282625518344, 0.08464181011765562, 0.08423334918346957, 0.08383682102917461, 0.0834516456348763, 0.08307728174909235, 0.08271322362644065, 0.08235899809387127, 0.08201416190711076, 0.08167829936405172, 0.08135102014613964, 0.08103195736250521, 0.08072076577475837, 0.08041712018308816, 0.08012071395666262, 0.07983125769335682, 0.07954847799559812, 0.07927211635064947, 0.07900192810498352, 0.07873768152356443, 0.07847915692587124, 0.07822614589138764, 0.07797845052806739, 0.07773588279797168, 0.07749826389488376, 0.07726542366924093, 0.0770372000961997, 0.07681343878306973, 0.07659399251272553, 0.07637872081993738, 0.07616748959785774, 0.07596017073216405, 0.07575664176059364, 0.07555678555581775, 0.07536049002979, 0.07516764785787491, 0.07497815622121332, 0.07479191656591898, 0.07460883437782387, 0.07442881897160135, 0.07425178329319554, 0.07407764373457792, 0.07390631995993266, 0.07373773474244752, 0.07357181381095484, 0.07340848570572779, 0.07324768164279365, 0.07308933538617596, 0.07293338312752426, 0.07277976337263178, 0.07262841683437998, 0.07247928633168492, 0.07233231669405081, 0.07218745467136757]\n"
          ]
        }
      ],
      "source": [
        "# Train logistic regression\n",
        "# I obtained optimal weights and a list of objective values by using gradient_descent function.\n",
        "n, d = x_train.shape\n",
        "y_train = numpy.array(y_train).reshape(-1,1)\n",
        "\n",
        "lr = 0.5 \n",
        "lambdas = 0 \n",
        "\n",
        "# Initialize the weights to zero\n",
        "w = numpy.zeros((d, 1))\n",
        "\n",
        "w_gd, gd_obj = gradient_descent(x_train, y_train, lambdas, lr, w)\n",
        "# Print the optimal weights and the objective value\n",
        "print(\"Optimal weights:\", w_gd)\n",
        "print(\"objective value:\", gd_obj)"
      ]
    },
    {
      "cell_type": "code",
      "execution_count": 63,
      "metadata": {
        "colab": {
          "base_uri": "https://localhost:8080/"
        },
        "id": "D-sCibklpf18",
        "outputId": "1b79bd9f-5cdf-4ed2-f5f0-46664d415371"
      },
      "outputs": [
        {
          "name": "stdout",
          "output_type": "stream",
          "text": [
            "Optimal weights: [[-0.51258444]\n",
            " [-0.49311447]\n",
            " [-0.50181254]\n",
            " [-0.57222661]\n",
            " [-0.13795456]\n",
            " [ 0.01467999]\n",
            " [-0.55246313]\n",
            " [-0.6305754 ]\n",
            " [-0.11613254]\n",
            " [ 0.27077714]\n",
            " [-0.74009179]\n",
            " [-0.11162103]\n",
            " [-0.6006995 ]\n",
            " [-0.64865233]\n",
            " [-0.02949378]\n",
            " [ 0.33245804]\n",
            " [ 0.09486441]\n",
            " [-0.02297236]\n",
            " [ 0.11529048]\n",
            " [ 0.36663299]\n",
            " [-0.73866132]\n",
            " [-0.75051342]\n",
            " [-0.69565822]\n",
            " [-0.75914626]\n",
            " [-0.45478114]\n",
            " [-0.18335758]\n",
            " [-0.51417315]\n",
            " [-0.64201462]\n",
            " [-0.46375095]\n",
            " [-0.13271705]\n",
            " [ 0.        ]]\n",
            "objective value: [0.2408722242249906, 0.20779160655816206, 0.18668164288018457, 0.17189564345509498, 0.1609036195966798, 0.15235883011267373, 0.14548215993650115, 0.13979729343412772, 0.1349977979936765, 0.1308771454840259, 0.1272904923095636, 0.12413283723386742, 0.1213259382647701, 0.1188101304143519, 0.11653901204792608, 0.11447588059289301, 0.11259127419420122, 0.11086123479184497, 0.10926605479642519, 0.10778935577387112, 0.10641739992229038, 0.10513856786219239, 0.10394295725791225, 0.10282207056567493, 0.10176856943179749, 0.10077607956086378, 0.09983903424251817, 0.09895254780371297, 0.0981123124527668, 0.09731451357371262, 0.09655575969572208, 0.0958330242262848, 0.09514359668333819, 0.09448504165005285, 0.09385516404842861, 0.09325197961422098, 0.09267368967764425, 0.09211865952756952, 0.09158539977317537, 0.09107255022484216, 0.09057886590196979, 0.09010320484421416, 0.08964451745809081, 0.08920183717581277, 0.08877427223980926, 0.08836099845629908, 0.08796125278589485, 0.08757432765952712, 0.0871995659248209, 0.08683635634207917, 0.08648412956074819, 0.0861423545170698, 0.08581053520190343, 0.08548820775469236, 0.08517493784547357, 0.08487031831187064, 0.08457396702230373, 0.08428552494032762, 0.0840046543681596, 0.08373103735017041, 0.08346437421944998, 0.08320438227257924, 0.08295079455949249, 0.0827033587768346, 0.08246183625454383, 0.08222600102654509, 0.08199563897745096, 0.08177054705805235, 0.0815505325631594, 0.08133541246603625, 0.08112501280427831, 0.08091916811251057, 0.08071772089775943, 0.08052052115376605, 0.08032742591088028, 0.08013829881850443, 0.07995300975734854, 0.07977143447902106, 0.07959345427071247, 0.07941895564293848, 0.07924783003849671, 0.07907997356095887, 0.07891528672117108, 0.07875367420037153, 0.07859504462865564, 0.0784393103776308, 0.07828638736620035, 0.07813619487850869, 0.07798865539315875, 0.07784369442288808, 0.07770124036395674, 0.07756122435456, 0.07742358014163517, 0.07728824395548181, 0.07715515439165965, 0.07702425229967157, 0.07689548067797616, 0.07676878457490924, 0.07664411099512602, 0.07652140881120456]\n"
          ]
        }
      ],
      "source": [
        "# Train regularized logistic regression\n",
        "# I obtained the optimal weights and a list of objective values by using gradient_descent function.\n",
        "n, d = x_train.shape\n",
        "y_train = numpy.array(y_train, dtype=numpy.float32).reshape(-1,1)\n",
        "lr = 0.5 #[0.01, 0.1, 0.5, 1]\n",
        "lambdas = 0.001 #[0.001, 0.05, 0.1, 0.5]\n",
        "\n",
        "# Initialize the weights to zero\n",
        "w = numpy.zeros((d, 1))\n",
        "\n",
        "w_gd_r, gd_obj_r = gradient_descent(x_train, y_train, lambdas, lr, w)\n",
        "#gd_obj_r = numpy.concatenate(numpy.array(objvals)).ravel()\n",
        "# Print the optimal weights and the last objective value\n",
        "print(\"Optimal weights:\", w_gd_r)\n",
        "print(\"objective value:\", gd_obj_r)"
      ]
    },
    {
      "attachments": {},
      "cell_type": "markdown",
      "metadata": {
        "id": "PIJ2frwGpf18"
      },
      "source": [
        "## 3.2. Stochastic gradient descent (SGD)\n",
        "\n",
        "Define new objective function $Q_i (w) = \\log \\Big( 1 + \\exp \\big( - y_i x_i^T w \\big) \\Big) + \\frac{\\lambda}{2} \\| w \\|_2^2 $. \n",
        "\n",
        "The stochastic gradient at $w$ is $g_i = \\frac{\\partial Q_i }{ \\partial w} = -\\frac{y_i x_i }{1 + \\exp ( y_i x_i^T w)} + \\lambda w$.\n",
        "\n",
        "You may need to implement a new function to calculate the new objective function and gradients."
      ]
    },
    {
      "cell_type": "code",
      "execution_count": 64,
      "metadata": {
        "id": "4FsNjQK5pf18"
      },
      "outputs": [],
      "source": [
        "# Calculated the objective Q_i and the gradient of Q_i\n",
        "# Inputs:\n",
        "#     w: weights: d-by-1 matrix\n",
        "#     xi: data: 1-by-d matrix\n",
        "#     yi: label: scalar\n",
        "#     lam: scalar, the regularization parameter\n",
        "# Return:\n",
        "#     obj: scalar, the objective Q_i\n",
        "#     g: d-by-1 matrix, gradient of Q_i\n",
        "\n",
        "def stochastic_objective_gradient(w, xi, yi, lam):\n",
        "    xyw = numpy.multiply(yi, numpy.dot(xi, w))\n",
        "    val1 = numpy.array(xyw, dtype= numpy.float128)\n",
        "    \n",
        "    exp_term = numpy.exp(-val1)\n",
        "    log_loss = numpy.log(1 + exp_term)\n",
        "    reg_term = 0.5 * lam * numpy.linalg.norm(w) ** 2\n",
        "    obj = log_loss + reg_term\n",
        "\n",
        "    term_exp = numpy.exp(val1)\n",
        "    grad =  -numpy.dot(xi.T, yi / (1 + term_exp))\n",
        "    reg = lam * w\n",
        "    g = grad + reg\n",
        "    return obj, g"
      ]
    },
    {
      "cell_type": "code",
      "execution_count": 154,
      "metadata": {
        "id": "vbznMoVspf19"
      },
      "outputs": [],
      "source": [
        "# SGD for solving logistic regression\n",
        "# Inputs:\n",
        "#     x: data: n-by-d matrix\n",
        "#     y: label: n-by-1 matrix\n",
        "#     lam: scalar, the regularization parameter\n",
        "#     learning_rate: scalar\n",
        "#     w: weights: d-by-1 matrix, initialization of w\n",
        "#     max_epoch: integer, the maximal epochs\n",
        "# Return:\n",
        "#     \n",
        "#     w: weights: d-by-1 matrix, the solution\n",
        "#     objvals: a record of each epoch's objective value\n",
        "#     Record one objective value per epoch (not per iteration)\n",
        "\n",
        "def sgd(x, y, lam, learning_rate, w, max_epoch=100):\n",
        "    n, d = x.shape\n",
        "    objvals = []\n",
        "    for epoch in range(max_epoch):\n",
        "        objval = 0\n",
        "        rand_perm = numpy.random.permutation(n) #randomly assigning indices to the iterations that need to compute\n",
        "        for i in rand_perm: \n",
        "            xi = numpy.array(x[i, :]).reshape(1, -1)\n",
        "            yi = y[i]\n",
        "            obj, grad = stochastic_objective_gradient(w, xi, yi, lam)\n",
        "            w = w - learning_rate * grad\n",
        "            xi = numpy.array(x[i, :]).reshape(1, -1)\n",
        "            yi = y[i]\n",
        "            obj, _ = stochastic_objective_gradient(w, xi, yi, lam)\n",
        "            objval += obj\n",
        "        objval /= n \n",
        "        objvals.append(objval)\n",
        "    return w, objvals"
      ]
    },
    {
      "attachments": {},
      "cell_type": "markdown",
      "metadata": {
        "id": "u3qC4se7pf19"
      },
      "source": [
        "Use sgd function to obtain optimal weights and a list of objective values over each epoch."
      ]
    },
    {
      "cell_type": "code",
      "execution_count": 66,
      "metadata": {
        "colab": {
          "base_uri": "https://localhost:8080/"
        },
        "id": "mkQsP8JYpf19",
        "outputId": "fa35ad56-a9a8-4814-bbda-2906f34ddeed"
      },
      "outputs": [
        {
          "name": "stdout",
          "output_type": "stream",
          "text": [
            "Optimal weights: [[ 0.55902611]\n",
            " [ 0.50230471]\n",
            " [ 0.5486133 ]\n",
            " [ 1.19289203]\n",
            " [-1.66058689]\n",
            " [ 3.07202286]\n",
            " [-2.46722012]\n",
            " [-2.46305344]\n",
            " [ 1.08190107]\n",
            " [-0.19904265]\n",
            " [-4.10190618]\n",
            " [ 0.73320378]\n",
            " [ 0.37782005]\n",
            " [-3.07076005]\n",
            " [-0.97889935]\n",
            " [-0.828874  ]\n",
            " [ 1.67165998]\n",
            " [-1.22947246]\n",
            " [ 1.23170982]\n",
            " [ 2.90504838]\n",
            " [-3.10265524]\n",
            " [-3.98691088]\n",
            " [-2.08351173]\n",
            " [-2.04571989]\n",
            " [ 0.92460425]\n",
            " [ 0.81910613]\n",
            " [-1.77759311]\n",
            " [-2.27352402]\n",
            " [-2.01576507]\n",
            " [-1.30048615]\n",
            " [ 0.        ]]\n",
            "objective value: [0.07568184 0.05484753 0.04941173 0.04826076 0.04874952 0.04638736\n",
            " 0.04371117 0.04414778 0.04283453 0.04039138 0.04256305 0.04008804\n",
            " 0.04496157 0.04013478 0.04006432 0.04076056 0.04104249 0.03919122\n",
            " 0.04011802 0.04225497 0.03825243 0.04050131 0.03908332 0.0384502\n",
            " 0.0376509  0.0401731  0.03936624 0.03773094 0.04133316 0.03775476\n",
            " 0.03464056 0.03791469 0.03923236 0.03835158 0.0376423  0.03669628\n",
            " 0.03692745 0.03540511 0.03574552 0.03309514 0.03718607 0.03654089\n",
            " 0.03575787 0.03632966 0.03331979 0.03523657 0.0358688  0.03535152\n",
            " 0.03734257 0.03369155 0.03323861 0.0375659  0.03279853 0.03532886\n",
            " 0.03547733 0.03189144 0.03455705 0.03526053 0.03371468 0.03619773\n",
            " 0.03362704 0.03589049 0.03462932 0.03348001 0.03362964 0.03397909\n",
            " 0.03263634 0.03436942 0.03256409 0.03161429 0.03282302 0.03340727\n",
            " 0.03023227 0.03414611 0.0318814  0.03200737 0.03496191 0.03260116\n",
            " 0.03197151 0.03142799 0.0326325  0.03194581 0.03221315 0.03232233\n",
            " 0.03200982 0.0315288  0.03171915 0.03288391 0.03256061 0.03044405\n",
            " 0.03527579 0.03230954 0.03291614 0.03250079 0.03242672 0.03438664\n",
            " 0.03171031 0.03265282 0.0307297  0.03122548]\n"
          ]
        }
      ],
      "source": [
        "# Train logistic regression\n",
        "n, d = x_train.shape\n",
        "y_train = numpy.array(y_train, dtype=numpy.float32).reshape(-1,1)\n",
        "#print(x_train.shape[1])\n",
        "lr = 0.1 #[0.01, 0.1, 0.5, 1]\n",
        "lambdas = 0 #[0.1, 0.5, 1, 5]\n",
        "\n",
        "# Initialize the weights to zero\n",
        "w = numpy.zeros((d, 1))\n",
        "\n",
        "w_sgd, objvals = sgd(x_train, y_train, lambdas, lr, w)\n",
        "sgd_obj = numpy.concatenate(numpy.array(objvals)).ravel()\n",
        "# Print the optimal weights and the last objective value\n",
        "print(\"Optimal weights:\", w_sgd)\n",
        "print(\"objective value:\", sgd_obj)"
      ]
    },
    {
      "cell_type": "code",
      "execution_count": 155,
      "metadata": {
        "colab": {
          "base_uri": "https://localhost:8080/"
        },
        "id": "vXxm9ag2pf19",
        "outputId": "ea3e98d3-f7ae-4a32-fbce-cdfd89768704"
      },
      "outputs": [
        {
          "name": "stdout",
          "output_type": "stream",
          "text": [
            "Optimal weights: [[-0.30252335]\n",
            " [-0.3088444 ]\n",
            " [-0.28985127]\n",
            " [-0.47246239]\n",
            " [-0.17852478]\n",
            " [ 0.61566113]\n",
            " [-0.97283032]\n",
            " [-1.03763851]\n",
            " [ 0.08245569]\n",
            " [ 0.18505655]\n",
            " [-1.43983515]\n",
            " [ 0.00301809]\n",
            " [-0.86214253]\n",
            " [-1.17944052]\n",
            " [-0.21683551]\n",
            " [ 0.7671238 ]\n",
            " [ 0.06121545]\n",
            " [-0.21755325]\n",
            " [ 0.37278136]\n",
            " [ 0.68565617]\n",
            " [-1.07272462]\n",
            " [-1.4203845 ]\n",
            " [-0.92279297]\n",
            " [-1.13726271]\n",
            " [-0.48579062]\n",
            " [ 0.0260356 ]\n",
            " [-0.90454418]\n",
            " [-1.13154753]\n",
            " [-0.90861114]\n",
            " [-0.3182424 ]\n",
            " [ 0.        ]]\n",
            "objective value: [0.21292801 0.12252728 0.10449364 0.09554037 0.0898096  0.08589448\n",
            " 0.08291038 0.0805488  0.07866522 0.07725341 0.07597334 0.07476683\n",
            " 0.07387997 0.07300593 0.07231883 0.07151309 0.07101234 0.07040659\n",
            " 0.06993796 0.06948034 0.06904629 0.06861221 0.06832023 0.06795481\n",
            " 0.06765758 0.06742288 0.06711862 0.06689985 0.0665691  0.06647088\n",
            " 0.06629625 0.06606907 0.06590174 0.06557943 0.06557871 0.06535025\n",
            " 0.06521317 0.06506568 0.06498831 0.06474356 0.06469231 0.06463068\n",
            " 0.06449763 0.06441602 0.06434085 0.0642146  0.0641202  0.06400933\n",
            " 0.06400922 0.06381478 0.06378057 0.06378703 0.06366711 0.06361386\n",
            " 0.06350623 0.06350543 0.06328299 0.06342324 0.06335205 0.06330155\n",
            " 0.06313284 0.06322966 0.06311444 0.06307308 0.06293461 0.063029\n",
            " 0.06294873 0.06278648 0.0628725  0.06290582 0.06280772 0.0627705\n",
            " 0.06274903 0.06272864 0.06259587 0.06261909 0.06267177 0.06259194\n",
            " 0.06233457 0.06254786 0.06250168 0.06246865 0.06239819 0.06234585\n",
            " 0.06237133 0.06238804 0.06239487 0.0623407  0.06235198 0.0620427\n",
            " 0.06227989 0.06223329 0.06216712 0.06220969 0.06220376 0.06218369\n",
            " 0.06212466 0.06213397 0.06202201 0.06197852]\n"
          ]
        }
      ],
      "source": [
        "# Train regularized logistic regression\n",
        "n, d = x_train.shape\n",
        "y_train = numpy.array(y_train, dtype=numpy.float32).reshape(-1,1)\n",
        "#print(x_train.shape[1])\n",
        "lr = 0.01 \n",
        "lambdas = 0.001 \n",
        "\n",
        "# Initialize the weights to zero\n",
        "w = numpy.zeros((d, 1))\n",
        "\n",
        "w_sgd_r, objvals = sgd(x_train, y_train, lambdas, lr, w)\n",
        "sgd_obj_r = numpy.concatenate(numpy.array(objvals)).ravel()\n",
        "# Print the optimal weights and the last objective value\n",
        "print(\"Optimal weights:\", w_sgd_r)\n",
        "print(\"objective value:\", sgd_obj_r)"
      ]
    },
    {
      "attachments": {},
      "cell_type": "markdown",
      "metadata": {
        "id": "QrDJDfeQpf19"
      },
      "source": [
        "## 3.3 Mini-Batch Gradient Descent (MBGD)"
      ]
    },
    {
      "attachments": {},
      "cell_type": "markdown",
      "metadata": {
        "id": "B_lKzyBSpf19"
      },
      "source": [
        "Define $Q_I (w) = \\frac{1}{b} \\sum_{i \\in I} \\log \\Big( 1 + \\exp \\big( - y_i x_i^T w \\big) \\Big) + \\frac{\\lambda}{2} \\| w \\|_2^2 $, where $I$ is a set containing $b$ indices randomly drawn from $\\{ 1, \\cdots , n \\}$ without replacement.\n",
        "\n",
        "The stochastic gradient at $w$ is $g_I = \\frac{\\partial Q_I }{ \\partial w} = \\frac{1}{b} \\sum_{i \\in I} \\frac{- y_i x_i }{1 + \\exp ( y_i x_i^T w)} + \\lambda w$.\n",
        "\n",
        "You may need to implement a new function to calculate the new objective function and gradients."
      ]
    },
    {
      "cell_type": "code",
      "execution_count": 72,
      "metadata": {
        "id": "wHMiRddXpf19"
      },
      "outputs": [],
      "source": [
        "# Calculated the objective Q_I and the gradient of Q_I\n",
        "# Inputs:\n",
        "#     w: weights: d-by-b matrix\n",
        "#     xi: data: b-by-d matrix\n",
        "#     yi: label: scalar\n",
        "#     lam: scalar, the regularization parameter\n",
        "# Return:\n",
        "#     obj: scalar, the objective Q_i\n",
        "#     g: d-by-1 matrix, gradient of Q_i\n",
        "\n",
        "def mb_objective_gradient(w, xi, yi, lam):\n",
        "    b = 20\n",
        "    xy = numpy.multiply(xi,yi)\n",
        "    xyw = numpy.dot(xy,w)\n",
        "    val1 = numpy.array(xyw, dtype= numpy.float128)\n",
        "\n",
        "    exp_term = (1 + numpy.exp(-val1)).astype(float)\n",
        "    term = numpy.log(exp_term)\n",
        "    log = 1/b * numpy.sum(term)\n",
        "    reg = 0.5 * lam * numpy.linalg.norm(w)**2\n",
        "    obj = log + reg\n",
        "    \n",
        "   # val = numpy.asarray([[dc.Decimal(i) for i in j] for j in xyw])\n",
        "    exp_term = (1 + numpy.exp(val1)).astype(float)\n",
        "   # print(exp_term)\n",
        "    term = numpy.divide(xy,exp_term)\n",
        "    grad = -1/b * numpy.sum(term, axis=0).reshape(-1,1)\n",
        "    reg = lam * w\n",
        "    g = grad + reg\n",
        "    return obj, g"
      ]
    },
    {
      "cell_type": "code",
      "execution_count": 146,
      "metadata": {
        "id": "RtT-j1rLpf19"
      },
      "outputs": [],
      "source": [
        "# MBGD for solving logistic regression\n",
        "\n",
        "# Inputs:\n",
        "#     x: data: n-by-d matrix\n",
        "#     y: label: n-by-1 matrix\n",
        "#     lam: scalar, the regularization parameter\n",
        "#     learning_rate: scalar\n",
        "#     w: weights: d-by-1 matrix, initialization of w\n",
        "#     max_epoch: integer, the maximal epochs\n",
        "# Return:\n",
        "#     w: weights: d-by-1 matrix, the solution\n",
        "#     objvals: a record of each epoch's objective value\n",
        "#     Record one objective value per epoch (not per iteration)\n",
        "\n",
        "def mbgd(x, y, lam, learning_rate, w, max_epoch=100):\n",
        "    n, d = x.shape\n",
        "    objvals = []\n",
        "    b = 20 # mini-batch size\n",
        "    for epoch in range(max_epoch):\n",
        "        num = numpy.random.permutation(n)\n",
        "        for i in range(0, n, b):\n",
        "            indices = num[i:i+b]\n",
        "            xi = x[indices, :]\n",
        "            yi = y[indices, :]\n",
        "            obj, grad = mb_objective_gradient(w, xi, yi, lam)\n",
        "            w = w - learning_rate * grad\n",
        "        objvals.append(obj)\n",
        "    return w, objvals"
      ]
    },
    {
      "attachments": {},
      "cell_type": "markdown",
      "metadata": {
        "id": "kJU02xF0pf19"
      },
      "source": [
        "Use mbgd function to obtain optimal weights and a list of objective values over each epoch."
      ]
    },
    {
      "cell_type": "code",
      "execution_count": 148,
      "metadata": {
        "colab": {
          "base_uri": "https://localhost:8080/"
        },
        "id": "U9KqVeK3pf19",
        "outputId": "32354bea-17a8-4f4c-8d7c-748b6a7fa467"
      },
      "outputs": [
        {
          "name": "stdout",
          "output_type": "stream",
          "text": [
            "Optimal weights: [[-0.41776375]\n",
            " [-0.45530537]\n",
            " [-0.40273368]\n",
            " [-0.58843731]\n",
            " [-0.16494862]\n",
            " [ 0.47577669]\n",
            " [-0.93472109]\n",
            " [-0.96763843]\n",
            " [ 0.00379494]\n",
            " [ 0.26139033]\n",
            " [-1.3398504 ]\n",
            " [-0.06931189]\n",
            " [-0.90768145]\n",
            " [-1.1096505 ]\n",
            " [-0.1568935 ]\n",
            " [ 0.81093291]\n",
            " [ 0.01045496]\n",
            " [-0.13222687]\n",
            " [ 0.33084919]\n",
            " [ 0.66711622]\n",
            " [-1.0470305 ]\n",
            " [-1.27470733]\n",
            " [-0.92872702]\n",
            " [-1.12705057]\n",
            " [-0.63607001]\n",
            " [-0.00854979]\n",
            " [-0.90448877]\n",
            " [-1.0638366 ]\n",
            " [-0.82992406]\n",
            " [-0.27101535]\n",
            " [ 0.        ]]\n",
            "Objective value: [0.1027799674664659, 0.11210857960977788, 0.04784902693423598, 0.07104561123777782, 0.17071092873785154, 0.033975144233800235, 0.048538616328305695, 0.15781672397093716, 0.020041133185400833, 0.05980620686813686, 0.029225362699316606, 0.24546034225777147, 0.04823822521835777, 0.007718186177558287, 0.08883181666482903, 0.055389662966584444, 0.048645452519751886, 0.2470136875967558, 0.00986679224022519, 0.1805433661652762, 0.03243733550902566, 0.04300810563194036, 0.016985266665983496, 0.02978070261674097, 0.02893934381190932, 0.04303766058977018, 0.12044071248620974, 0.1562492202729172, 0.1231548021793974, 0.025423397831131178, 0.014271489023569693, 0.03806985656272055, 0.005621305076822875, 0.006887465611839926, 0.015915665161374517, 0.018245573130880904, 0.01847228789011101, 0.014485471873508524, 0.02317758349816206, 0.08326521244635413, 0.008332988774830847, 0.01339246679898324, 0.06475918351212467, 0.014346610640428817, 0.012925464938016551, 0.011028668345667222, 0.03339813731868578, 0.057156841575479615, 0.11576500339421039, 0.20286100847370292, 0.022377378671618615, 0.02227690467376544, 0.01500929506318846, 0.10347330664566662, 0.0027769608661746092, 0.010209794863375844, 0.018528978320502622, 0.12006618767797553, 0.03971866749168895, 0.009342996131965027, 0.023491165415163707, 0.11880144548489585, 0.017778582031031106, 0.030785835273304626, 0.03408876369541406, 0.013703341644194556, 0.03387956655849222, 0.23359601957151557, 0.014232125705462726, 0.059230983563327566, 0.01779139193964919, 0.2037888079678757, 0.10093002058836863, 0.12329691566243475, 0.01628481805591961, 0.0030855500584453174, 0.3514505314695002, 0.00849614297745325, 0.06690589556352994, 0.008611309618991545, 0.01711781592269124, 0.03661757882983736, 0.13028740263708194, 0.046209210620562685, 0.05779879504016733, 0.054824986864741, 0.029864427260284893, 0.04238646902887506, 0.005967161704016237, 0.05095423747878724, 0.020093370697750114, 0.04677068820545452, 0.025438191978480063, 0.010578978699740308, 0.2905789348671213, 0.021251237766399995, 0.007341756026102372, 0.025954250803669723, 0.031598358620288806, 0.016682241417529282]\n"
          ]
        }
      ],
      "source": [
        "# Train logistic regression\n",
        "n, d = x_train.shape\n",
        "\n",
        "lr = 0.1 #[0.01, 0.1, 0.5, 1]\n",
        "lambdas = 0 #[0.1, 0.5, 1, 5]\n",
        "\n",
        "# Initialize the weights to zero\n",
        "w = numpy.zeros((d, 1))\n",
        "\n",
        "w_mbgd, obj_mbgd = mbgd(x_train, y_train, lambdas, lr, w)\n",
        "\n",
        "# Print the optimal weights and the objective value\n",
        "print(\"Optimal weights:\", w_mbgd)\n",
        "print(\"Objective value:\", obj_mbgd)"
      ]
    },
    {
      "cell_type": "code",
      "execution_count": 149,
      "metadata": {
        "colab": {
          "base_uri": "https://localhost:8080/"
        },
        "id": "n4ynapNQpf19",
        "outputId": "1b24e585-93af-4d32-e535-42cf95f4ccee"
      },
      "outputs": [
        {
          "name": "stdout",
          "output_type": "stream",
          "text": [
            "Optimal weights: [[-0.40395985]\n",
            " [-0.42937428]\n",
            " [-0.39098602]\n",
            " [-0.55776425]\n",
            " [-0.14293561]\n",
            " [ 0.41516127]\n",
            " [-0.85936557]\n",
            " [-0.89152788]\n",
            " [-0.00772605]\n",
            " [ 0.24496414]\n",
            " [-1.22147523]\n",
            " [-0.06142274]\n",
            " [-0.83841499]\n",
            " [-1.01630243]\n",
            " [-0.1410143 ]\n",
            " [ 0.72566846]\n",
            " [ 0.01966294]\n",
            " [-0.11759654]\n",
            " [ 0.28935031]\n",
            " [ 0.58904063]\n",
            " [-0.96903919]\n",
            " [-1.16279784]\n",
            " [-0.86499923]\n",
            " [-1.04158076]\n",
            " [-0.58130435]\n",
            " [-0.02076253]\n",
            " [-0.82273237]\n",
            " [-0.97486594]\n",
            " [-0.75718717]\n",
            " [-0.24639164]\n",
            " [ 0.        ]]\n",
            "objective value: [0.14569960807456342, 0.13451092192016018, 0.045350562996819846, 0.0722111504355657, 0.11491871027353895, 0.09579823344927324, 0.11384057892032179, 0.043709894700844326, 0.06682742294602514, 0.08543514699738364, 0.1564623466468393, 0.03453176737234619, 0.1734661425879582, 0.08714047152805696, 0.02974971987705699, 0.22401853978662223, 0.05963148086394393, 0.028371513722022658, 0.017011607156278422, 0.0254708733940604, 0.04036687312751138, 0.039148351483406105, 0.27933476878172275, 0.08555618428082783, 0.04645637810141175, 0.10740148073634313, 0.04037784527979915, 0.11387942754198518, 0.03702247868097631, 0.06800250943248355, 0.1479136478354749, 0.022840455140883537, 0.017696744696609725, 0.04693686133279723, 0.028338506055137005, 0.029320141186924303, 0.02365269484362658, 0.02214862573365677, 0.021805753717536933, 0.036405985466593314, 0.031661505398839246, 0.03815770374693904, 0.07160159899999578, 0.018972676669456026, 0.017264109674159433, 0.05914320972661888, 0.053643921953917116, 0.017058145192428334, 0.011718390440195068, 0.12281142109195697, 0.06676293709528376, 0.0280740881244205, 0.010403286424243818, 0.011379749661184758, 0.016048967840002412, 0.022955850197746118, 0.14305378777773806, 0.02023966763137607, 0.061838230092489364, 0.1044932539869934, 0.01960331687527964, 0.03096551497065804, 0.028095055059246504, 0.03672353552115316, 0.01241318656459933, 0.020285479799441834, 0.05777338974985922, 0.013196923413969055, 0.010114125323571175, 0.03224575224092679, 0.02831858785627133, 0.01916695734258618, 0.09427090334397428, 0.06225735418340575, 0.026561089655157164, 0.015022612304655573, 0.0921300869923159, 0.0476736419200344, 0.028492648046444337, 0.013472614232876403, 0.03956909602320209, 0.016656821350459712, 0.014339983603756563, 0.0224059788211911, 0.11501955268240213, 0.07906775301419983, 0.02210278503139341, 0.15061038981994787, 0.029339832033702638, 0.023185567180745843, 0.058563413250758325, 0.03963578334563098, 0.04692424139665141, 0.03264023951907511, 0.030707573381122052, 0.0768196419175029, 0.02133753700477244, 0.04577044325158515, 0.023755679647307855, 0.03149308144397262]\n"
          ]
        }
      ],
      "source": [
        "# Trained regularized logistic regression\n",
        "n, d = x_train.shape\n",
        "y_train = numpy.array(y_train, dtype=numpy.float32).reshape(-1,1)\n",
        "#print(x_train.shape[1])\n",
        "lr = 0.1 #[0.01, 0.1, 0.5, 1]\n",
        "lambdas = 0.001 #[0.1, 0.5, 1, 5]\n",
        "\n",
        "# Initialize the weights to zero\n",
        "w = numpy.zeros((d, 1))\n",
        "\n",
        "w_mbgd_r, obj_mbgd_r = mbgd(x_train, y_train, lambdas, lr, w)\n",
        "\n",
        "# Print the optimal weights and the last objective value\n",
        "print(\"Optimal weights:\", w_mbgd_r)\n",
        "print(\"objective value:\", obj_mbgd_r)"
      ]
    },
    {
      "attachments": {},
      "cell_type": "markdown",
      "metadata": {
        "id": "dt9Aq2Y4pf19"
      },
      "source": [
        "# 4. Compare GD, SGD, MBGD\n",
        "\n",
        "### Plot objective function values against epochs."
      ]
    },
    {
      "cell_type": "code",
      "execution_count": 150,
      "metadata": {
        "colab": {
          "base_uri": "https://localhost:8080/",
          "height": 297
        },
        "id": "xjVHvR1Ipf19",
        "outputId": "16dfca68-6c83-411c-c826-11f250c29017"
      },
      "outputs": [
        {
          "data": {
            "image/png": "[encoded data removed]",
            "text/plain": [
              "<Figure size 1080x288 with 3 Axes>"
            ]
          },
          "metadata": {
            "needs_background": "light"
          },
          "output_type": "display_data"
        }
      ],
      "source": [
        "import matplotlib.pyplot as plt\n",
        "%matplotlib inline\n",
        "\n",
        "# Create a 2x2 grid of subplots\n",
        "fig, axes = plt.subplots(nrows=1, ncols=3, figsize=(15, 4))\n",
        "\n",
        "# Plot the first function on the first subplot\n",
        "axes[1].plot(sgd_obj, label='Stochastic Gradient Descent', linestyle = 'dotted', marker='.' ,color = 'lightblue')\n",
        "axes[1].set_xlabel('Epochs')\n",
        "axes[1].set_ylabel('Objective Values')\n",
        "axes[1].set_ylim(bottom=0, top=0.3)\n",
        "\n",
        "# Plot the second function on the second subplot\n",
        "axes[0].plot(gd_obj, label='Gradient Descent', linestyle = 'dotted',marker = '.', color='red')\n",
        "axes[0].set_xlabel('Epochs')\n",
        "axes[0].set_ylabel('Objective values')\n",
        "axes[0].set_ylim(bottom=0, top=0.5)\n",
        "\n",
        "axes[2].plot(obj_mbgd, label='Mini Batch Gradient Descent', linestyle = 'dotted',marker = '.',color = 'pink')\n",
        "axes[2].set_xlabel('Epochs')\n",
        "axes[2].set_ylabel('Objective Values')\n",
        "axes[2].set_ylim(bottom=0, top=5)\n",
        "\n",
        "# Adjust spacing between subplots and display the plot\n",
        "plt.tight_layout()\n",
        "plt.show()"
      ]
    },
    {
      "attachments": {},
      "cell_type": "markdown",
      "metadata": {
        "id": "qLmsmwicpf19"
      },
      "source": [
        "# 5. Prediction\n",
        "### Compare the training and testing accuracy for logistic regression and regularized logistic regression."
      ]
    },
    {
      "cell_type": "code",
      "execution_count": 151,
      "metadata": {
        "id": "ol-sorL5pf19"
      },
      "outputs": [],
      "source": [
        "# Predict class label\n",
        "# Inputs:\n",
        "#     w: weights: d-by-1 matrix\n",
        "#     X: data: m-by-d matrix\n",
        "# Return:\n",
        "#     f: m-by-1 matrix, the predictions\n",
        "def predict(w, x):\n",
        "    f = numpy.dot(x, w)\n",
        "    return numpy.sign(f)"
      ]
    },
    {
      "cell_type": "code",
      "execution_count": 156,
      "metadata": {
        "colab": {
          "base_uri": "https://localhost:8080/"
        },
        "id": "-Z_LoU5Hpf19",
        "outputId": "84e37682-cfa2-4055-b335-bffa2cb5e802"
      },
      "outputs": [
        {
          "name": "stdout",
          "output_type": "stream",
          "text": [
            "Error rate of Logistic Regression for Stochastic Gradient Descent: 0.01\n",
            "Accuracy of Logistic Regression for Stochastic Gradient Descent: 0.99 \n",
            "\n",
            "Error rate of Regularized Logistic Regression for Stochastic Gradient Descent: 0.02\n",
            "Accuracy of Regularized Logistic Regression for Stochastic Gradient Descent: 0.98 \n",
            "\n",
            "Error rate of Logistic Regression for Minibatch Gradient Descent: 0.02\n",
            "Accuracy of Logistic Regression for Minibatch Gradient Descent: 0.98 \n",
            "\n",
            "Error rate of Regularized Logistic Regression for Minibatch Gradient Descent: 0.02\n",
            "Accuracy of Regularized Logistic Regression for Minibatch Gradient Descent: 0.98 \n",
            "\n",
            "Error rate of Logistic Regression for normal Gradient Descent: 0.02\n",
            "Accuracy of Logistic Regression for normal Gradient Descent: 0.98 \n",
            "\n",
            "Error rate of Regularized Logistic Regression for normal Gradient Descent: 0.02\n",
            "Accuracy of Regularized Logistic Regression for normal Gradient Descent: 0.98 \n",
            "\n"
          ]
        }
      ],
      "source": [
        "# evaluate training error of logistic regression and regularized version\n",
        "arr = {\n",
        "  \"Stochastic\": w_sgd,\n",
        "  \"Stochastic_r\": w_sgd_r ,\n",
        "  \"Minibatch\": w_mbgd,\n",
        "  \"Minibatch_r\": w_mbgd_r, \n",
        "  \"normal\" : w_gd,\n",
        "  \"normal_r\" : w_gd_r\n",
        "}\n",
        "\n",
        "def train_error(arr, x_data, y_data):\n",
        "    n = x_data.shape[0]\n",
        "    for key ,val in arr.items():\n",
        "        if(str(key[-1]) == 'r'):\n",
        "            pred_r = predict(val, x_data)\n",
        "            incorrect_r = numpy.sum(pred_r != y_data)\n",
        "            error_rate = incorrect_r/n\n",
        "            accuracy = 1-error_rate\n",
        "            print(\"Error rate of Regularized Logistic Regression for\",key[:-2],\"Gradient Descent:\",round(error_rate, 2))\n",
        "            print(\"Accuracy of Regularized Logistic Regression for\",key[:-2],\"Gradient Descent:\",round(accuracy, 2),\"\\n\")\n",
        "        else:\n",
        "            pred = predict(val, x_data)\n",
        "            incorrect = numpy.sum(pred != y_data)\n",
        "            error_rate = incorrect/n\n",
        "            accuracy = 1-error_rate\n",
        "            print(\"Error rate of Logistic Regression for\",key,\"Gradient Descent:\",round(error_rate, 2))\n",
        "            print(\"Accuracy of Logistic Regression for\",key,\"Gradient Descent:\",round(accuracy, 2),\"\\n\")\n",
        "\n",
        "train_error(arr, x_train, y_train)"
      ]
    },
    {
      "cell_type": "code",
      "execution_count": 157,
      "metadata": {
        "colab": {
          "base_uri": "https://localhost:8080/"
        },
        "id": "T3niaaXIpf19",
        "outputId": "edd319f8-183a-40db-8deb-fab37b5f5282"
      },
      "outputs": [
        {
          "name": "stdout",
          "output_type": "stream",
          "text": [
            "Error rate of Logistic Regression for Stochastic Gradient Descent: 0.04\n",
            "Accuracy of Logistic Regression for Stochastic Gradient Descent: 0.96 \n",
            "\n",
            "Error rate of Regularized Logistic Regression for Stochastic Gradient Descent: 0.02\n",
            "Accuracy of Regularized Logistic Regression for Stochastic Gradient Descent: 0.98 \n",
            "\n",
            "Error rate of Logistic Regression for Minibatch Gradient Descent: 0.02\n",
            "Accuracy of Logistic Regression for Minibatch Gradient Descent: 0.98 \n",
            "\n",
            "Error rate of Regularized Logistic Regression for Minibatch Gradient Descent: 0.02\n",
            "Accuracy of Regularized Logistic Regression for Minibatch Gradient Descent: 0.98 \n",
            "\n",
            "Error rate of Logistic Regression for normal Gradient Descent: 0.02\n",
            "Accuracy of Logistic Regression for normal Gradient Descent: 0.98 \n",
            "\n",
            "Error rate of Regularized Logistic Regression for normal Gradient Descent: 0.02\n",
            "Accuracy of Regularized Logistic Regression for normal Gradient Descent: 0.98 \n",
            "\n"
          ]
        }
      ],
      "source": [
        "# evaluate testing error of logistic regression and regularized version\n",
        "y_test = numpy.array(y_test, dtype=numpy.float32).reshape(-1,1)\n",
        "def train_error(arr, x_data, y_data):\n",
        "    n = x_data.shape[0]\n",
        "    for key ,val in arr.items():\n",
        "        if(str(key[-1]) == 'r'):\n",
        "            pred_r = predict(val, x_data)\n",
        "            incorrect_r = numpy.sum(pred_r != y_data)\n",
        "            error_rate = incorrect_r/n\n",
        "            accuracy = 1-error_rate\n",
        "            print(\"Error rate of Regularized Logistic Regression for\",key[:-2],\"Gradient Descent:\",round(error_rate, 2))\n",
        "            print(\"Accuracy of Regularized Logistic Regression for\",key[:-2],\"Gradient Descent:\",round(accuracy, 2),\"\\n\")\n",
        "        else:\n",
        "            pred = predict(val, x_data)\n",
        "            incorrect = numpy.sum(pred != y_data)\n",
        "            error_rate = incorrect/n\n",
        "            accuracy = 1-error_rate\n",
        "            print(\"Error rate of Logistic Regression for\",key,\"Gradient Descent:\",round(error_rate, 2))\n",
        "            print(\"Accuracy of Logistic Regression for\",key,\"Gradient Descent:\",round(accuracy, 2),\"\\n\")\n",
        "\n",
        "train_error(arr, x_test, y_test)"
      ]
    },
    {
      "attachments": {},
      "cell_type": "markdown",
      "metadata": {
        "id": "cBXMMKSnpf19"
      },
      "source": [
        "# 6. Parameters tuning"
      ]
    },
    {
      "cell_type": "code",
      "execution_count": 161,
      "metadata": {
        "colab": {
          "base_uri": "https://localhost:8080/"
        },
        "id": "Q9JUxpi9OZSu",
        "outputId": "2f669afc-169a-448b-cde6-22e3ee1e3d61"
      },
      "outputs": [
        {
          "name": "stderr",
          "output_type": "stream",
          "text": [
            "<ipython-input-72-b019f2a65a89>:17: RuntimeWarning: overflow encountered in exp\n",
            "  exp_term = (1 + numpy.exp(-val1)).astype(float)\n",
            "<ipython-input-72-b019f2a65a89>:24: RuntimeWarning: overflow encountered in exp\n",
            "  exp_term = (1 + numpy.exp(val1)).astype(float)\n"
          ]
        },
        {
          "name": "stdout",
          "output_type": "stream",
          "text": [
            "Averaged test errors(validation error) 0.01\n",
            "Average test accuracy(validation error) 0.99\n"
          ]
        }
      ],
      "source": [
        "from functools import reduce\n",
        "\n",
        "# Define a function that performs the training and evaluation on a single fold\n",
        "def cross_val_kfold(i,X_parts,y_parts, lam, lr):    \n",
        "    x_test = X_parts[i]\n",
        "    y_test = y_parts[i]\n",
        "    # Set the remaining parts as the training data\n",
        "    x_train = numpy.concatenate(X_parts[:i] + X_parts[i+1:])\n",
        "    y_train = numpy.concatenate(y_parts[:i] + y_parts[i+1:])\n",
        "    d = x_train.shape[1]\n",
        "    w = numpy.zeros((d,1))\n",
        "\n",
        "    #change the name of function if you need mini batch write 'mbgd' and for stochastic 'sgd'\n",
        "    w_, obj_ = mbgd(x_train, y_train, lam, lr, w)     \n",
        "    # Make predictions on the test set and compute the error rate and accuracy\n",
        "    pred = predict(w_, x_test)\n",
        "    incorrect_r = numpy.sum(pred != y_test)\n",
        "    error_rate = incorrect_r / n\n",
        "    accuracy = 1 - error_rate\n",
        "    return (error_rate, accuracy)\n",
        "\n",
        "# Define the number of folds \n",
        "k = 20\n",
        "avg_rate, avg_acc = 0, 0\n",
        "X = data1[:,1:32]\n",
        "y = (data1[:,0]).reshape(-1,1)\n",
        "X_parts = numpy.array_split(X, k)\n",
        "y_parts = numpy.array_split(y, k)\n",
        "# Use map and filter to apply the train_eval_fold function to each fold\n",
        "output = map(lambda i: cross_val_kfold(i,X_parts,y_parts, 0.01, 0.1), range(k))\n",
        "# Use reduce to compute the running sum of error rates and accuracies\n",
        "avg_error_rate, avg_accuracy = reduce(lambda acc, res: (acc[0] + res[0], acc[1] + res[1]), output, (0, 0))\n",
        "# Compute the average error rate and accuracy over all folds\n",
        "avg_error_rate /= k\n",
        "avg_accuracy /= k\n",
        "print(\"Averaged test errors(validation error)\",round(avg_error_rate,2))\n",
        "print(\"Average test accuracy(validation error)\",round(avg_accuracy,2))"
      ]
    },
    {
      "attachments": {},
      "cell_type": "markdown",
      "metadata": {
        "id": "0RAaWPybZ2eg"
      },
      "source": [
        "The above, **Tuning parameter** includes a function which consists logic for cross **validation kfold** log where I have divided x and y training amd testing set after fetching split from the actual data. After that, I have called **all three gradient functions** to obtain **updated weights**. This weights helps to **predict** the **validation set**  **error rate and accuray** per functions, which is then **averaged** for obtaining **validation error**. However, This function takes **longer time to compute** if loops are used. Hence, to avoid that issue, I have used optimized way by inculcating **map and reduce** concepts. I reduced time complexity by 4 times as before (while using normal for loop) it took 40.06 mins (more than half an hour)to compute the acccuracy and error rate, but now it takes only in 10 to 15 secs. "
      ]
    }
  ],
  "metadata": {
    "colab": {
      "provenance": []
    },
    "kernelspec": {
      "display_name": "Python 3 (ipykernel)",
      "language": "python",
      "name": "python3"
    },
    "language_info": {
      "codemirror_mode": {
        "name": "ipython",
        "version": 3
      },
      "file_extension": ".py",
      "mimetype": "text/x-python",
      "name": "python",
      "nbconvert_exporter": "python",
      "pygments_lexer": "ipython3",
      "version": "3.9.7"
    }
  },
  "nbformat": 4,
  "nbformat_minor": 0
}

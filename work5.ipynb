{
  "nbformat": 4,
  "nbformat_minor": 0,
  "metadata": {
    "colab": {
      "provenance": []
    },
    "kernelspec": {
      "name": "python3",
      "display_name": "Python 3"
    },
    "language_info": {
      "name": "python"
    }
  },
  "cells": [
    {
      "cell_type": "code",
      "execution_count": 1,
      "metadata": {
        "id": "FJrbw_s1L8rp"
      },
      "outputs": [],
      "source": [
        "from keras.datasets import mnist\n",
        "from keras import models, layers, optimizers\n",
        "import pandas as pd\n",
        "import numpy as np"
      ]
    },
    {
      "cell_type": "code",
      "source": [
        "(x_train, y_train),(x_test, y_test) = mnist.load_data()\n",
        "print('X train shape:' + str(x_train.shape))\n",
        "print('Y train shape:' + str(y_train.shape))\n",
        "print('X test shape:' + str(x_test.shape))\n",
        "print('Y test shape:' + str(y_test.shape))"
      ],
      "metadata": {
        "colab": {
          "base_uri": "https://localhost:8080/"
        },
        "id": "DrTeFdKaNRkV",
        "outputId": "7cf517f5-2156-4b63-b215-4859d9d99216"
      },
      "execution_count": 2,
      "outputs": [
        {
          "output_type": "stream",
          "name": "stdout",
          "text": [
            "X train shape:(60000, 28, 28)\n",
            "Y train shape:(60000,)\n",
            "X test shape:(10000, 28, 28)\n",
            "Y test shape:(10000,)\n"
          ]
        }
      ]
    },
    {
      "cell_type": "code",
      "source": [
        "x_train_vec = x_train.reshape(60000, 784)\n",
        "x_test_vec = x_test.reshape(10000, 784)\n",
        "print('shape of x_train_vec is:'+ str(x_train_vec.shape))"
      ],
      "metadata": {
        "colab": {
          "base_uri": "https://localhost:8080/"
        },
        "id": "l1ctnbS_OHsc",
        "outputId": "e5bbb80c-39c4-4b60-bc8d-1340edb84562"
      },
      "execution_count": 3,
      "outputs": [
        {
          "output_type": "stream",
          "name": "stdout",
          "text": [
            "shape of x_train_vec is:(60000, 784)\n"
          ]
        }
      ]
    },
    {
      "cell_type": "code",
      "source": [
        "#one hot encoding of y dataset values\n",
        "def to_one_hot_encode(y, dimensions = 10):\n",
        "  labels_list = list(y)\n",
        "  #array = np.zeros((len(y), dimensions))\n",
        "  results_list = list(map(lambda y: [1 if i == y else 0 for i in range(10)], labels_list))\n",
        "  results = np.array(results_list)\n",
        "  return results\n",
        "\n",
        "y_train_vec = to_one_hot_encode(y_train)\n",
        "y_test_vec = to_one_hot_encode(y_test)\n",
        "print('shape of y test vector:' +str(y_train_vec.shape))\n",
        "print('shape of y train vector:' +str(y_test_vec.shape))"
      ],
      "metadata": {
        "colab": {
          "base_uri": "https://localhost:8080/"
        },
        "id": "U-00Z0KIViX6",
        "outputId": "bc2d6886-b7aa-4e86-a968-b1e9db956253"
      },
      "execution_count": 4,
      "outputs": [
        {
          "output_type": "stream",
          "name": "stdout",
          "text": [
            "shape of y test vector:(60000, 10)\n",
            "shape of y train vector:(10000, 10)\n"
          ]
        }
      ]
    },
    {
      "cell_type": "code",
      "source": [
        "print('shape of x_train_vec is:'+ str(x_train_vec.shape))\n",
        "print('shape of x_train_vec is:'+ str(x_test_vec.shape))\n",
        "print('shape of y test vector:' +str(y_train_vec.shape))\n",
        "print('shape of y train vector:' +str(y_test_vec.shape))"
      ],
      "metadata": {
        "colab": {
          "base_uri": "https://localhost:8080/"
        },
        "id": "cMzlkGbke1ey",
        "outputId": "2fa7b651-b573-44ff-8e33-de800b5aae63"
      },
      "execution_count": 5,
      "outputs": [
        {
          "output_type": "stream",
          "name": "stdout",
          "text": [
            "shape of x_train_vec is:(60000, 784)\n",
            "shape of x_train_vec is:(10000, 784)\n",
            "shape of y test vector:(60000, 10)\n",
            "shape of y train vector:(10000, 10)\n"
          ]
        }
      ]
    },
    {
      "cell_type": "code",
      "source": [
        "#n_indices = x_train_vec.shape[0]\n",
        "rand_indices = np.random.permutation(60000)\n",
        "train_indices = rand_indices[0:50000]\n",
        "valid_indices = rand_indices[50000:60000]\n",
        "x_valid_vec = x_train_vec[valid_indices, :]\n",
        "y_valid_vec = y_train_vec[valid_indices, :]\n",
        "\n",
        "x_train_vec = x_train_vec[train_indices, :]\n",
        "y_train_vec = y_train_vec[train_indices, :] \n",
        "\n",
        "print('shape of x train:' +str(x_train_vec.shape))\n",
        "print('shape of y train:' +str(y_train_vec.shape))\n",
        "print('shape of x validate:' +str(x_valid_vec.shape))\n",
        "print('shape of y validate:' +str(y_valid_vec.shape))"
      ],
      "metadata": {
        "colab": {
          "base_uri": "https://localhost:8080/"
        },
        "id": "zUyxym-LPMnk",
        "outputId": "9fe3b208-aedf-4a2e-e6ec-206785d506e5"
      },
      "execution_count": 6,
      "outputs": [
        {
          "output_type": "stream",
          "name": "stdout",
          "text": [
            "shape of x train:(50000, 784)\n",
            "shape of y train:(50000, 10)\n",
            "shape of x validate:(10000, 784)\n",
            "shape of y validate:(10000, 10)\n"
          ]
        }
      ]
    },
    {
      "cell_type": "code",
      "source": [
        "model = models.Sequential()\n",
        "model.add(layers.Dense(10, activation='softmax', input_shape=(784,)))\n",
        "model.compile(optimizers.RMSprop(learning_rate=0.01), loss='categorical_crossentropy', metrics=['accuracy'])\n",
        "model.summary()"
      ],
      "metadata": {
        "colab": {
          "base_uri": "https://localhost:8080/"
        },
        "id": "5oSfbucUgKSi",
        "outputId": "36a02f17-6c81-4785-8f83-83b52ce0bb65"
      },
      "execution_count": 7,
      "outputs": [
        {
          "output_type": "stream",
          "name": "stdout",
          "text": [
            "Model: \"sequential\"\n",
            "_________________________________________________________________\n",
            " Layer (type)                Output Shape              Param #   \n",
            "=================================================================\n",
            " dense (Dense)               (None, 10)                7850      \n",
            "                                                                 \n",
            "=================================================================\n",
            "Total params: 7,850\n",
            "Trainable params: 7,850\n",
            "Non-trainable params: 0\n",
            "_________________________________________________________________\n"
          ]
        }
      ]
    },
    {
      "cell_type": "code",
      "source": [
        "history = model.fit(x_train_vec, y_train_vec, batch_size=128, epochs=50, validation_data=(x_valid_vec, y_valid_vec))"
      ],
      "metadata": {
        "colab": {
          "base_uri": "https://localhost:8080/"
        },
        "id": "QsP9abTzhNQk",
        "outputId": "49bf26fa-76bc-498e-9e8a-43270aaba38a"
      },
      "execution_count": 8,
      "outputs": [
        {
          "output_type": "stream",
          "name": "stdout",
          "text": [
            "Epoch 1/50\n",
            "391/391 [==============================] - 6s 10ms/step - loss: 39.8451 - accuracy: 0.8261 - val_loss: 59.3776 - val_accuracy: 0.8057\n",
            "Epoch 2/50\n",
            "391/391 [==============================] - 1s 4ms/step - loss: 33.1603 - accuracy: 0.8671 - val_loss: 31.3905 - val_accuracy: 0.8820\n",
            "Epoch 3/50\n",
            "391/391 [==============================] - 1s 3ms/step - loss: 32.2843 - accuracy: 0.8739 - val_loss: 36.2795 - val_accuracy: 0.8730\n",
            "Epoch 4/50\n",
            "391/391 [==============================] - 1s 3ms/step - loss: 31.6585 - accuracy: 0.8768 - val_loss: 47.1179 - val_accuracy: 0.8556\n",
            "Epoch 5/50\n",
            "391/391 [==============================] - 2s 4ms/step - loss: 31.6172 - accuracy: 0.8794 - val_loss: 62.4946 - val_accuracy: 0.7993\n",
            "Epoch 6/50\n",
            "391/391 [==============================] - 2s 5ms/step - loss: 31.2890 - accuracy: 0.8813 - val_loss: 53.7541 - val_accuracy: 0.8231\n",
            "Epoch 7/50\n",
            "391/391 [==============================] - 2s 5ms/step - loss: 31.7317 - accuracy: 0.8827 - val_loss: 43.5060 - val_accuracy: 0.8568\n",
            "Epoch 8/50\n",
            "391/391 [==============================] - 1s 3ms/step - loss: 32.0311 - accuracy: 0.8824 - val_loss: 45.3233 - val_accuracy: 0.8513\n",
            "Epoch 9/50\n",
            "391/391 [==============================] - 1s 3ms/step - loss: 30.5828 - accuracy: 0.8858 - val_loss: 57.7812 - val_accuracy: 0.8361\n",
            "Epoch 10/50\n",
            "391/391 [==============================] - 1s 3ms/step - loss: 30.9693 - accuracy: 0.8866 - val_loss: 33.5244 - val_accuracy: 0.8936\n",
            "Epoch 11/50\n",
            "391/391 [==============================] - 1s 3ms/step - loss: 30.6393 - accuracy: 0.8880 - val_loss: 69.8281 - val_accuracy: 0.8056\n",
            "Epoch 12/50\n",
            "391/391 [==============================] - 1s 3ms/step - loss: 30.9554 - accuracy: 0.8862 - val_loss: 33.2245 - val_accuracy: 0.8904\n",
            "Epoch 13/50\n",
            "391/391 [==============================] - 1s 3ms/step - loss: 30.4943 - accuracy: 0.8882 - val_loss: 33.3128 - val_accuracy: 0.8975\n",
            "Epoch 14/50\n",
            "391/391 [==============================] - 1s 3ms/step - loss: 30.6641 - accuracy: 0.8878 - val_loss: 42.3487 - val_accuracy: 0.8675\n",
            "Epoch 15/50\n",
            "391/391 [==============================] - 1s 3ms/step - loss: 31.1451 - accuracy: 0.8860 - val_loss: 35.5916 - val_accuracy: 0.8906\n",
            "Epoch 16/50\n",
            "391/391 [==============================] - 2s 4ms/step - loss: 30.2819 - accuracy: 0.8886 - val_loss: 39.6943 - val_accuracy: 0.8865\n",
            "Epoch 17/50\n",
            "391/391 [==============================] - 2s 4ms/step - loss: 30.0808 - accuracy: 0.8892 - val_loss: 37.8862 - val_accuracy: 0.8812\n",
            "Epoch 18/50\n",
            "391/391 [==============================] - 1s 3ms/step - loss: 30.6830 - accuracy: 0.8891 - val_loss: 45.4863 - val_accuracy: 0.8627\n",
            "Epoch 19/50\n",
            "391/391 [==============================] - 1s 3ms/step - loss: 30.8050 - accuracy: 0.8903 - val_loss: 48.5381 - val_accuracy: 0.8484\n",
            "Epoch 20/50\n",
            "391/391 [==============================] - 1s 3ms/step - loss: 30.4955 - accuracy: 0.8892 - val_loss: 38.8646 - val_accuracy: 0.8819\n",
            "Epoch 21/50\n",
            "391/391 [==============================] - 1s 3ms/step - loss: 30.4775 - accuracy: 0.8902 - val_loss: 38.7609 - val_accuracy: 0.8821\n",
            "Epoch 22/50\n",
            "391/391 [==============================] - 1s 3ms/step - loss: 30.9232 - accuracy: 0.8896 - val_loss: 37.7471 - val_accuracy: 0.8897\n",
            "Epoch 23/50\n",
            "391/391 [==============================] - 1s 4ms/step - loss: 30.0950 - accuracy: 0.8932 - val_loss: 48.5444 - val_accuracy: 0.8516\n",
            "Epoch 24/50\n",
            "391/391 [==============================] - 1s 3ms/step - loss: 30.3561 - accuracy: 0.8915 - val_loss: 35.4824 - val_accuracy: 0.8958\n",
            "Epoch 25/50\n",
            "391/391 [==============================] - 1s 3ms/step - loss: 30.5594 - accuracy: 0.8902 - val_loss: 43.2590 - val_accuracy: 0.8703\n",
            "Epoch 26/50\n",
            "391/391 [==============================] - 2s 5ms/step - loss: 30.4746 - accuracy: 0.8918 - val_loss: 47.9902 - val_accuracy: 0.8587\n",
            "Epoch 27/50\n",
            "391/391 [==============================] - 1s 4ms/step - loss: 30.8525 - accuracy: 0.8908 - val_loss: 45.4818 - val_accuracy: 0.8588\n",
            "Epoch 28/50\n",
            "391/391 [==============================] - 1s 3ms/step - loss: 30.6817 - accuracy: 0.8920 - val_loss: 39.9697 - val_accuracy: 0.8824\n",
            "Epoch 29/50\n",
            "391/391 [==============================] - 1s 3ms/step - loss: 30.2873 - accuracy: 0.8921 - val_loss: 59.9648 - val_accuracy: 0.8318\n",
            "Epoch 30/50\n",
            "391/391 [==============================] - 1s 3ms/step - loss: 30.6431 - accuracy: 0.8917 - val_loss: 46.5713 - val_accuracy: 0.8663\n",
            "Epoch 31/50\n",
            "391/391 [==============================] - 1s 3ms/step - loss: 30.5477 - accuracy: 0.8914 - val_loss: 46.2630 - val_accuracy: 0.8674\n",
            "Epoch 32/50\n",
            "391/391 [==============================] - 1s 3ms/step - loss: 30.4021 - accuracy: 0.8926 - val_loss: 44.0291 - val_accuracy: 0.8743\n",
            "Epoch 33/50\n",
            "391/391 [==============================] - 1s 3ms/step - loss: 30.4637 - accuracy: 0.8932 - val_loss: 40.1843 - val_accuracy: 0.8913\n",
            "Epoch 34/50\n",
            "391/391 [==============================] - 1s 3ms/step - loss: 30.6780 - accuracy: 0.8921 - val_loss: 42.2087 - val_accuracy: 0.8740\n",
            "Epoch 35/50\n",
            "391/391 [==============================] - 1s 3ms/step - loss: 29.8882 - accuracy: 0.8935 - val_loss: 37.2989 - val_accuracy: 0.8903\n",
            "Epoch 36/50\n",
            "391/391 [==============================] - 2s 5ms/step - loss: 30.0142 - accuracy: 0.8939 - val_loss: 43.4718 - val_accuracy: 0.8781\n",
            "Epoch 37/50\n",
            "391/391 [==============================] - 1s 4ms/step - loss: 30.5080 - accuracy: 0.8931 - val_loss: 46.6020 - val_accuracy: 0.8733\n",
            "Epoch 38/50\n",
            "391/391 [==============================] - 1s 3ms/step - loss: 29.9667 - accuracy: 0.8945 - val_loss: 39.3759 - val_accuracy: 0.8896\n",
            "Epoch 39/50\n",
            "391/391 [==============================] - 2s 6ms/step - loss: 30.5462 - accuracy: 0.8925 - val_loss: 43.2176 - val_accuracy: 0.8800\n",
            "Epoch 40/50\n",
            "391/391 [==============================] - 3s 6ms/step - loss: 30.5300 - accuracy: 0.8940 - val_loss: 44.6665 - val_accuracy: 0.8707\n",
            "Epoch 41/50\n",
            "391/391 [==============================] - 1s 3ms/step - loss: 30.2020 - accuracy: 0.8934 - val_loss: 49.5491 - val_accuracy: 0.8576\n",
            "Epoch 42/50\n",
            "391/391 [==============================] - 2s 5ms/step - loss: 30.3705 - accuracy: 0.8927 - val_loss: 44.1768 - val_accuracy: 0.8768\n",
            "Epoch 43/50\n",
            "391/391 [==============================] - 3s 8ms/step - loss: 30.5216 - accuracy: 0.8929 - val_loss: 46.9088 - val_accuracy: 0.8744\n",
            "Epoch 44/50\n",
            "391/391 [==============================] - 3s 7ms/step - loss: 30.0415 - accuracy: 0.8941 - val_loss: 51.2655 - val_accuracy: 0.8665\n",
            "Epoch 45/50\n",
            "391/391 [==============================] - 2s 6ms/step - loss: 30.3631 - accuracy: 0.8938 - val_loss: 45.7805 - val_accuracy: 0.8851\n",
            "Epoch 46/50\n",
            "391/391 [==============================] - 2s 5ms/step - loss: 30.4782 - accuracy: 0.8952 - val_loss: 42.0306 - val_accuracy: 0.8808\n",
            "Epoch 47/50\n",
            "391/391 [==============================] - 1s 3ms/step - loss: 30.7182 - accuracy: 0.8940 - val_loss: 54.0447 - val_accuracy: 0.8505\n",
            "Epoch 48/50\n",
            "391/391 [==============================] - 1s 3ms/step - loss: 30.2433 - accuracy: 0.8944 - val_loss: 84.9515 - val_accuracy: 0.7741\n",
            "Epoch 49/50\n",
            "391/391 [==============================] - 1s 3ms/step - loss: 30.3671 - accuracy: 0.8951 - val_loss: 37.0185 - val_accuracy: 0.9002\n",
            "Epoch 50/50\n",
            "391/391 [==============================] - 2s 4ms/step - loss: 30.6074 - accuracy: 0.8951 - val_loss: 51.8781 - val_accuracy: 0.8576\n"
          ]
        }
      ]
    },
    {
      "cell_type": "code",
      "source": [
        "loss_and_acc = model.evaluate(x_test_vec, y_test_vec)\n",
        "print('loss= '+str(loss_and_acc[0]))\n",
        "print('accuracy= '+str(round(loss_and_acc[1],2)))"
      ],
      "metadata": {
        "colab": {
          "base_uri": "https://localhost:8080/"
        },
        "id": "j91ANqlQh9LH",
        "outputId": "c667faac-137b-4933-a929-aae39a3646d3"
      },
      "execution_count": 9,
      "outputs": [
        {
          "output_type": "stream",
          "name": "stdout",
          "text": [
            "313/313 [==============================] - 1s 2ms/step - loss: 47.9767 - accuracy: 0.8655\n",
            "loss= 47.9766731262207\n",
            "accuracy= 0.87\n"
          ]
        }
      ]
    },
    {
      "cell_type": "code",
      "source": [
        "d1=500\n",
        "d2 = 500\n",
        "model = models.Sequential()\n",
        "model.add(layers.Dense(d1, activation='relu', input_shape =(784,)))\n",
        "model.add(layers.Dense(d2, activation='relu'))\n",
        "model.add(layers.Dense(10, activation='softmax'))\n",
        "model.summary()"
      ],
      "metadata": {
        "colab": {
          "base_uri": "https://localhost:8080/"
        },
        "id": "_kJx8hCMjiHc",
        "outputId": "c009a978-e24b-401f-bda4-2c659bbe085b"
      },
      "execution_count": 10,
      "outputs": [
        {
          "output_type": "stream",
          "name": "stdout",
          "text": [
            "Model: \"sequential_1\"\n",
            "_________________________________________________________________\n",
            " Layer (type)                Output Shape              Param #   \n",
            "=================================================================\n",
            " dense_1 (Dense)             (None, 500)               392500    \n",
            "                                                                 \n",
            " dense_2 (Dense)             (None, 500)               250500    \n",
            "                                                                 \n",
            " dense_3 (Dense)             (None, 10)                5010      \n",
            "                                                                 \n",
            "=================================================================\n",
            "Total params: 648,010\n",
            "Trainable params: 648,010\n",
            "Non-trainable params: 0\n",
            "_________________________________________________________________\n"
          ]
        }
      ]
    },
    {
      "cell_type": "code",
      "source": [
        "model.compile(optimizers.RMSprop(learning_rate=0.001), loss='categorical_crossentropy', metrics=['accuracy'])"
      ],
      "metadata": {
        "id": "dYs5hZnWke_X"
      },
      "execution_count": 11,
      "outputs": []
    },
    {
      "cell_type": "code",
      "source": [
        "history_nn = model.fit(x_train_vec, y_train_vec, batch_size=128, epochs=50, validation_data=(x_valid_vec, y_valid_vec)) "
      ],
      "metadata": {
        "colab": {
          "base_uri": "https://localhost:8080/"
        },
        "id": "hwhVx77XkyBi",
        "outputId": "b8b09c3c-8de7-49cb-b76d-ae905587bc93"
      },
      "execution_count": 12,
      "outputs": [
        {
          "output_type": "stream",
          "name": "stdout",
          "text": [
            "Epoch 1/50\n",
            "391/391 [==============================] - 9s 22ms/step - loss: 4.2861 - accuracy: 0.8833 - val_loss: 0.6049 - val_accuracy: 0.9361\n",
            "Epoch 2/50\n",
            "391/391 [==============================] - 7s 17ms/step - loss: 0.4183 - accuracy: 0.9413 - val_loss: 0.3899 - val_accuracy: 0.9448\n",
            "Epoch 3/50\n",
            "391/391 [==============================] - 8s 20ms/step - loss: 0.2913 - accuracy: 0.9551 - val_loss: 0.4350 - val_accuracy: 0.9488\n",
            "Epoch 4/50\n",
            "391/391 [==============================] - 6s 16ms/step - loss: 0.2474 - accuracy: 0.9613 - val_loss: 0.3175 - val_accuracy: 0.9586\n",
            "Epoch 5/50\n",
            "391/391 [==============================] - 9s 23ms/step - loss: 0.2176 - accuracy: 0.9673 - val_loss: 0.3798 - val_accuracy: 0.9535\n",
            "Epoch 6/50\n",
            "391/391 [==============================] - 6s 17ms/step - loss: 0.2146 - accuracy: 0.9699 - val_loss: 0.3729 - val_accuracy: 0.9649\n",
            "Epoch 7/50\n",
            "391/391 [==============================] - 8s 20ms/step - loss: 0.1919 - accuracy: 0.9747 - val_loss: 0.5176 - val_accuracy: 0.9586\n",
            "Epoch 8/50\n",
            "391/391 [==============================] - 7s 17ms/step - loss: 0.1986 - accuracy: 0.9765 - val_loss: 0.5486 - val_accuracy: 0.9658\n",
            "Epoch 9/50\n",
            "391/391 [==============================] - 8s 21ms/step - loss: 0.1816 - accuracy: 0.9791 - val_loss: 0.3530 - val_accuracy: 0.9683\n",
            "Epoch 10/50\n",
            "391/391 [==============================] - 8s 20ms/step - loss: 0.1860 - accuracy: 0.9810 - val_loss: 0.7798 - val_accuracy: 0.9578\n",
            "Epoch 11/50\n",
            "391/391 [==============================] - 7s 17ms/step - loss: 0.1755 - accuracy: 0.9812 - val_loss: 0.5037 - val_accuracy: 0.9669\n",
            "Epoch 12/50\n",
            "391/391 [==============================] - 9s 23ms/step - loss: 0.1535 - accuracy: 0.9836 - val_loss: 0.5047 - val_accuracy: 0.9708\n",
            "Epoch 13/50\n",
            "391/391 [==============================] - 6s 16ms/step - loss: 0.1550 - accuracy: 0.9843 - val_loss: 0.5507 - val_accuracy: 0.9694\n",
            "Epoch 14/50\n",
            "391/391 [==============================] - 8s 20ms/step - loss: 0.1470 - accuracy: 0.9864 - val_loss: 0.6693 - val_accuracy: 0.9678\n",
            "Epoch 15/50\n",
            "391/391 [==============================] - 6s 17ms/step - loss: 0.1340 - accuracy: 0.9869 - val_loss: 0.5379 - val_accuracy: 0.9739\n",
            "Epoch 16/50\n",
            "391/391 [==============================] - 8s 20ms/step - loss: 0.1402 - accuracy: 0.9867 - val_loss: 0.6777 - val_accuracy: 0.9646\n",
            "Epoch 17/50\n",
            "391/391 [==============================] - 7s 19ms/step - loss: 0.1168 - accuracy: 0.9888 - val_loss: 0.7072 - val_accuracy: 0.9706\n",
            "Epoch 18/50\n",
            "391/391 [==============================] - 7s 17ms/step - loss: 0.1330 - accuracy: 0.9892 - val_loss: 0.6308 - val_accuracy: 0.9729\n",
            "Epoch 19/50\n",
            "391/391 [==============================] - 9s 23ms/step - loss: 0.1310 - accuracy: 0.9900 - val_loss: 0.9560 - val_accuracy: 0.9694\n",
            "Epoch 20/50\n",
            "391/391 [==============================] - 7s 17ms/step - loss: 0.1354 - accuracy: 0.9900 - val_loss: 0.9403 - val_accuracy: 0.9681\n",
            "Epoch 21/50\n",
            "391/391 [==============================] - 7s 19ms/step - loss: 0.1360 - accuracy: 0.9906 - val_loss: 1.0847 - val_accuracy: 0.9721\n",
            "Epoch 22/50\n",
            "391/391 [==============================] - 7s 17ms/step - loss: 0.1249 - accuracy: 0.9913 - val_loss: 1.0315 - val_accuracy: 0.9701\n",
            "Epoch 23/50\n",
            "391/391 [==============================] - 8s 19ms/step - loss: 0.1379 - accuracy: 0.9915 - val_loss: 0.9106 - val_accuracy: 0.9732\n",
            "Epoch 24/50\n",
            "391/391 [==============================] - 7s 17ms/step - loss: 0.1156 - accuracy: 0.9919 - val_loss: 0.9829 - val_accuracy: 0.9740\n",
            "Epoch 25/50\n",
            "391/391 [==============================] - 7s 18ms/step - loss: 0.1156 - accuracy: 0.9933 - val_loss: 0.7854 - val_accuracy: 0.9743\n",
            "Epoch 26/50\n",
            "391/391 [==============================] - 9s 22ms/step - loss: 0.0853 - accuracy: 0.9933 - val_loss: 0.9747 - val_accuracy: 0.9728\n",
            "Epoch 27/50\n",
            "391/391 [==============================] - 7s 17ms/step - loss: 0.0898 - accuracy: 0.9937 - val_loss: 0.8897 - val_accuracy: 0.9737\n",
            "Epoch 28/50\n",
            "391/391 [==============================] - 7s 19ms/step - loss: 0.0908 - accuracy: 0.9939 - val_loss: 1.0818 - val_accuracy: 0.9735\n",
            "Epoch 29/50\n",
            "391/391 [==============================] - 7s 17ms/step - loss: 0.1025 - accuracy: 0.9939 - val_loss: 1.1663 - val_accuracy: 0.9720\n",
            "Epoch 30/50\n",
            "391/391 [==============================] - 8s 19ms/step - loss: 0.1160 - accuracy: 0.9931 - val_loss: 1.1743 - val_accuracy: 0.9730\n",
            "Epoch 31/50\n",
            "391/391 [==============================] - 7s 17ms/step - loss: 0.0999 - accuracy: 0.9949 - val_loss: 1.1148 - val_accuracy: 0.9761\n",
            "Epoch 32/50\n",
            "391/391 [==============================] - 8s 20ms/step - loss: 0.0819 - accuracy: 0.9951 - val_loss: 1.1081 - val_accuracy: 0.9759\n",
            "Epoch 33/50\n",
            "391/391 [==============================] - 9s 23ms/step - loss: 0.0896 - accuracy: 0.9950 - val_loss: 1.1650 - val_accuracy: 0.9764\n",
            "Epoch 34/50\n",
            "391/391 [==============================] - 7s 17ms/step - loss: 0.1002 - accuracy: 0.9950 - val_loss: 1.4179 - val_accuracy: 0.9735\n",
            "Epoch 35/50\n",
            "391/391 [==============================] - 8s 20ms/step - loss: 0.1003 - accuracy: 0.9955 - val_loss: 1.3803 - val_accuracy: 0.9754\n",
            "Epoch 36/50\n",
            "391/391 [==============================] - 7s 17ms/step - loss: 0.0908 - accuracy: 0.9957 - val_loss: 1.4847 - val_accuracy: 0.9723\n",
            "Epoch 37/50\n",
            "391/391 [==============================] - 8s 20ms/step - loss: 0.0718 - accuracy: 0.9957 - val_loss: 1.3833 - val_accuracy: 0.9759\n",
            "Epoch 38/50\n",
            "391/391 [==============================] - 6s 16ms/step - loss: 0.0697 - accuracy: 0.9964 - val_loss: 1.5468 - val_accuracy: 0.9735\n",
            "Epoch 39/50\n",
            "391/391 [==============================] - 8s 19ms/step - loss: 0.0934 - accuracy: 0.9957 - val_loss: 1.4320 - val_accuracy: 0.9756\n",
            "Epoch 40/50\n",
            "391/391 [==============================] - 9s 23ms/step - loss: 0.0858 - accuracy: 0.9961 - val_loss: 1.4950 - val_accuracy: 0.9768\n",
            "Epoch 41/50\n",
            "391/391 [==============================] - 7s 17ms/step - loss: 0.0728 - accuracy: 0.9961 - val_loss: 1.3238 - val_accuracy: 0.9761\n",
            "Epoch 42/50\n",
            "391/391 [==============================] - 8s 20ms/step - loss: 0.0688 - accuracy: 0.9966 - val_loss: 1.7315 - val_accuracy: 0.9759\n",
            "Epoch 43/50\n",
            "391/391 [==============================] - 7s 17ms/step - loss: 0.0877 - accuracy: 0.9960 - val_loss: 1.5485 - val_accuracy: 0.9755\n",
            "Epoch 44/50\n",
            "391/391 [==============================] - 8s 19ms/step - loss: 0.0598 - accuracy: 0.9972 - val_loss: 1.5200 - val_accuracy: 0.9735\n",
            "Epoch 45/50\n",
            "391/391 [==============================] - 7s 17ms/step - loss: 0.0651 - accuracy: 0.9971 - val_loss: 1.6008 - val_accuracy: 0.9752\n",
            "Epoch 46/50\n",
            "391/391 [==============================] - 8s 20ms/step - loss: 0.0707 - accuracy: 0.9972 - val_loss: 1.4422 - val_accuracy: 0.9777\n",
            "Epoch 47/50\n",
            "391/391 [==============================] - 9s 23ms/step - loss: 0.0623 - accuracy: 0.9971 - val_loss: 1.6091 - val_accuracy: 0.9762\n",
            "Epoch 48/50\n",
            "391/391 [==============================] - 6s 16ms/step - loss: 0.0814 - accuracy: 0.9965 - val_loss: 1.9268 - val_accuracy: 0.9727\n",
            "Epoch 49/50\n",
            "391/391 [==============================] - 8s 19ms/step - loss: 0.0756 - accuracy: 0.9969 - val_loss: 1.7618 - val_accuracy: 0.9757\n",
            "Epoch 50/50\n",
            "391/391 [==============================] - 7s 17ms/step - loss: 0.0746 - accuracy: 0.9969 - val_loss: 1.8447 - val_accuracy: 0.9767\n"
          ]
        }
      ]
    },
    {
      "cell_type": "code",
      "source": [
        "loss_and_acc_nn = model.evaluate(x_test_vec, y_test_vec)\n",
        "print('loss =' +str(loss_and_acc_nn[0]))\n",
        "print('accuracy =' +str(round(loss_and_acc_nn[1],2)))"
      ],
      "metadata": {
        "colab": {
          "base_uri": "https://localhost:8080/"
        },
        "id": "LOvt0ldvmzea",
        "outputId": "3a792d95-e29a-4ac6-b5b7-641f4e04e410"
      },
      "execution_count": 13,
      "outputs": [
        {
          "output_type": "stream",
          "name": "stdout",
          "text": [
            "313/313 [==============================] - 2s 6ms/step - loss: 1.5676 - accuracy: 0.9785\n",
            "loss =1.567639708518982\n",
            "accuracy =0.98\n"
          ]
        }
      ]
    }
  ]
}